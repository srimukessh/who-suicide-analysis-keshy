{
 "cells": [
  {
   "cell_type": "markdown",
   "metadata": {},
   "source": [
    "# Quantum Group - Data Assignment - Srimukessh Subramanian"
   ]
  },
  {
   "cell_type": "markdown",
   "metadata": {},
   "source": [
    "### Import necessary libraries"
   ]
  },
  {
   "cell_type": "code",
   "execution_count": 990,
   "metadata": {},
   "outputs": [],
   "source": [
    "import os\n",
    "import pandas as pd\n",
    "import seaborn as sns\n",
    "import matplotlib.pyplot as plt"
   ]
  },
  {
   "cell_type": "code",
   "execution_count": 991,
   "metadata": {},
   "outputs": [
    {
     "data": {
      "text/html": [
       "<div>\n",
       "<style scoped>\n",
       "    .dataframe tbody tr th:only-of-type {\n",
       "        vertical-align: middle;\n",
       "    }\n",
       "\n",
       "    .dataframe tbody tr th {\n",
       "        vertical-align: top;\n",
       "    }\n",
       "\n",
       "    .dataframe thead th {\n",
       "        text-align: right;\n",
       "    }\n",
       "</style>\n",
       "<table border=\"1\" class=\"dataframe\">\n",
       "  <thead>\n",
       "    <tr style=\"text-align: right;\">\n",
       "      <th></th>\n",
       "      <th>country</th>\n",
       "      <th>year</th>\n",
       "      <th>sex</th>\n",
       "      <th>age</th>\n",
       "      <th>suicides_no</th>\n",
       "      <th>population</th>\n",
       "      <th>HDI for year</th>\n",
       "      <th>gdp_for_year ($)</th>\n",
       "    </tr>\n",
       "  </thead>\n",
       "  <tbody>\n",
       "    <tr>\n",
       "      <th>0</th>\n",
       "      <td>Albania</td>\n",
       "      <td>1987</td>\n",
       "      <td>male</td>\n",
       "      <td>15-24 years</td>\n",
       "      <td>21</td>\n",
       "      <td>312900</td>\n",
       "      <td>NaN</td>\n",
       "      <td>2,156,624,900</td>\n",
       "    </tr>\n",
       "    <tr>\n",
       "      <th>1</th>\n",
       "      <td>Albania</td>\n",
       "      <td>1987</td>\n",
       "      <td>male</td>\n",
       "      <td>35-54 years</td>\n",
       "      <td>16</td>\n",
       "      <td>308000</td>\n",
       "      <td>NaN</td>\n",
       "      <td>2,156,624,900</td>\n",
       "    </tr>\n",
       "    <tr>\n",
       "      <th>2</th>\n",
       "      <td>Albania</td>\n",
       "      <td>1987</td>\n",
       "      <td>female</td>\n",
       "      <td>15-24 years</td>\n",
       "      <td>14</td>\n",
       "      <td>289700</td>\n",
       "      <td>NaN</td>\n",
       "      <td>2,156,624,900</td>\n",
       "    </tr>\n",
       "    <tr>\n",
       "      <th>3</th>\n",
       "      <td>Albania</td>\n",
       "      <td>1987</td>\n",
       "      <td>male</td>\n",
       "      <td>75+ years</td>\n",
       "      <td>1</td>\n",
       "      <td>21800</td>\n",
       "      <td>NaN</td>\n",
       "      <td>2,156,624,900</td>\n",
       "    </tr>\n",
       "    <tr>\n",
       "      <th>4</th>\n",
       "      <td>Albania</td>\n",
       "      <td>1987</td>\n",
       "      <td>male</td>\n",
       "      <td>25-34 years</td>\n",
       "      <td>9</td>\n",
       "      <td>274300</td>\n",
       "      <td>NaN</td>\n",
       "      <td>2,156,624,900</td>\n",
       "    </tr>\n",
       "  </tbody>\n",
       "</table>\n",
       "</div>"
      ],
      "text/plain": [
       "   country  year     sex          age suicides_no  population  HDI for year  \\\n",
       "0  Albania  1987    male  15-24 years          21      312900           NaN   \n",
       "1  Albania  1987    male  35-54 years          16      308000           NaN   \n",
       "2  Albania  1987  female  15-24 years          14      289700           NaN   \n",
       "3  Albania  1987    male    75+ years           1       21800           NaN   \n",
       "4  Albania  1987    male  25-34 years           9      274300           NaN   \n",
       "\n",
       "   gdp_for_year ($)   \n",
       "0      2,156,624,900  \n",
       "1      2,156,624,900  \n",
       "2      2,156,624,900  \n",
       "3      2,156,624,900  \n",
       "4      2,156,624,900  "
      ]
     },
     "execution_count": 991,
     "metadata": {},
     "output_type": "execute_result"
    }
   ],
   "source": [
    "who_data = pd.read_csv(\"who_suicide_statistics_modified3.csv\")\n",
    "who_data.head() #Displays the first 5 rows of the dataset"
   ]
  },
  {
   "cell_type": "markdown",
   "metadata": {},
   "source": [
    "Basically the dataset has suicide data for all age categories from 5 to people over 75 for over 101 countries\n",
    "\n",
    "HDI is a measure of human physical and educational well-being. It is essentially the statistic composite index of life expectancy, education, and per capita income indicators"
   ]
  },
  {
   "cell_type": "markdown",
   "metadata": {},
   "source": [
    "## 1. List all countries"
   ]
  },
  {
   "cell_type": "markdown",
   "metadata": {},
   "source": [
    "To list all the unique entries in the 'country' column, the 'unique' method of the Pandas object is used"
   ]
  },
  {
   "cell_type": "code",
   "execution_count": 992,
   "metadata": {},
   "outputs": [
    {
     "data": {
      "text/plain": [
       "array(['Albania', 'Antigua and Barbuda', 'Argentina', 'Armenia', 'Aruba',\n",
       "       'Australia', 'Austria', 'Azerbaijan', 'Bahamas', 'Bahrain',\n",
       "       'Barbados', 'Belarus', 'Belgium', 'Belize',\n",
       "       'Bosnia and Herzegovina', 'Brazil', 'Bulgaria', 'Cabo Verde',\n",
       "       'Canada', 'Chile', 'Colombia', 'Costa Rica', 'Croatia', 'Cuba',\n",
       "       'Cyprus', 'Czech Republic', 'Denmark', 'Dominica', 'Ecuador',\n",
       "       'El Salvador', 'Estonia', 'Fiji', 'Finland', 'France', 'Georgia',\n",
       "       'Germany', 'Greece', 'Grenada', 'Guatemala', 'Guyana', 'Hungary',\n",
       "       'Iceland', 'Ireland', 'Israel', 'Italy', 'Jamaica', 'Japan',\n",
       "       'Kazakhstan', 'Kiribati', 'Kuwait', 'Kyrgyzstan', 'Latvia',\n",
       "       'Lithuania', 'Luxembourg', 'Macau', 'Maldives', 'Malta',\n",
       "       'Mauritius', 'Mexico', 'Mongolia', 'Montenegro', 'Netherlands',\n",
       "       'New Zealand', 'Nicaragua', 'Norway', 'Oman', 'Panama', 'Paraguay',\n",
       "       'Philippines', 'Poland', 'Portugal', 'Puerto Rico', 'Qatar',\n",
       "       'Republic of Korea', 'Romania', 'Russian Federation',\n",
       "       'Saint Kitts and Nevis', 'Saint Lucia',\n",
       "       'Saint Vincent and Grenadines', 'San Marino', 'Serbia',\n",
       "       'Seychelles', 'Singapore', 'Slovakia', 'Slovenia', 'South Africa',\n",
       "       'Spain', 'Sri Lanka', 'Suriname', 'Sweden', 'Switzerland',\n",
       "       'Thailand', 'Trinidad and Tobago', 'Turkey', 'Turkmenistan',\n",
       "       'Ukraine', 'United Arab Emirates', 'United Kingdom',\n",
       "       'United States', 'Uruguay', 'Uzbekistan'], dtype=object)"
      ]
     },
     "execution_count": 992,
     "metadata": {},
     "output_type": "execute_result"
    }
   ],
   "source": [
    "countries_list = who_data['country']\n",
    "pd.unique(countries_list) # Returns unique values of country column."
   ]
  },
  {
   "cell_type": "markdown",
   "metadata": {},
   "source": [
    "## 2. Listing Problems with data"
   ]
  },
  {
   "cell_type": "markdown",
   "metadata": {},
   "source": [
    "Problems with the dataset of data:\n",
    "\n",
    "1. Missing values for No of suicides and HDI index\n",
    "2. Last few rows of the data set are duplicates of existing rows\n",
    "3. The datatypes of the columns representing 'No of suicides' and 'gdp_for_year' are currently strings. They must be integers\n",
    "4. Data is not thorough for all age groups for some countries Eg. Thailand in 2016"
   ]
  },
  {
   "cell_type": "markdown",
   "metadata": {},
   "source": [
    "#### Problem 1 - Missing Suicide Number and HDI Index"
   ]
  },
  {
   "cell_type": "code",
   "execution_count": 993,
   "metadata": {},
   "outputs": [
    {
     "data": {
      "text/plain": [
       "<AxesSubplot:>"
      ]
     },
     "execution_count": 993,
     "metadata": {},
     "output_type": "execute_result"
    },
    {
     "data": {
      "image/png": "[encoded data removed]",
      "text/plain": [
       "<Figure size 576x396 with 1 Axes>"
      ]
     },
     "metadata": {},
     "output_type": "display_data"
    }
   ],
   "source": [
    "sns.heatmap(who_data.isnull(),cbar=False)"
   ]
  },
  {
   "cell_type": "markdown",
   "metadata": {},
   "source": [
    "In this heatmap plot, the white lines represent the missing values. It can be seen that the HDI index calculated a yearly-basis has a lot of missing values. Number of Suicides are also found to be missing for a few rows in the dataset."
   ]
  },
  {
   "cell_type": "markdown",
   "metadata": {},
   "source": [
    "#### Problem 2 and 4 "
   ]
  },
  {
   "cell_type": "code",
   "execution_count": 995,
   "metadata": {},
   "outputs": [
    {
     "data": {
      "text/html": [
       "<div>\n",
       "<style scoped>\n",
       "    .dataframe tbody tr th:only-of-type {\n",
       "        vertical-align: middle;\n",
       "    }\n",
       "\n",
       "    .dataframe tbody tr th {\n",
       "        vertical-align: top;\n",
       "    }\n",
       "\n",
       "    .dataframe thead th {\n",
       "        text-align: right;\n",
       "    }\n",
       "</style>\n",
       "<table border=\"1\" class=\"dataframe\">\n",
       "  <thead>\n",
       "    <tr style=\"text-align: right;\">\n",
       "      <th></th>\n",
       "      <th>country</th>\n",
       "      <th>year</th>\n",
       "      <th>sex</th>\n",
       "      <th>age</th>\n",
       "      <th>suicides_no</th>\n",
       "      <th>population</th>\n",
       "      <th>HDI for year</th>\n",
       "      <th>gdp_for_year ($)</th>\n",
       "    </tr>\n",
       "  </thead>\n",
       "  <tbody>\n",
       "    <tr>\n",
       "      <th>25302</th>\n",
       "      <td>Thailand</td>\n",
       "      <td>2016</td>\n",
       "      <td>male</td>\n",
       "      <td>55-74 years</td>\n",
       "      <td>734</td>\n",
       "      <td>5203957</td>\n",
       "      <td>NaN</td>\n",
       "      <td>411,755,164,833</td>\n",
       "    </tr>\n",
       "    <tr>\n",
       "      <th>25303</th>\n",
       "      <td>Thailand</td>\n",
       "      <td>2016</td>\n",
       "      <td>male</td>\n",
       "      <td>35-54 years</td>\n",
       "      <td>1421</td>\n",
       "      <td>10084647</td>\n",
       "      <td>NaN</td>\n",
       "      <td>411,755,164,833</td>\n",
       "    </tr>\n",
       "    <tr>\n",
       "      <th>25304</th>\n",
       "      <td>Thailand</td>\n",
       "      <td>2016</td>\n",
       "      <td>male</td>\n",
       "      <td>75+ years</td>\n",
       "      <td>152</td>\n",
       "      <td>1124052</td>\n",
       "      <td>NaN</td>\n",
       "      <td>411,755,164,833</td>\n",
       "    </tr>\n",
       "    <tr>\n",
       "      <th>25305</th>\n",
       "      <td>Thailand</td>\n",
       "      <td>2016</td>\n",
       "      <td>male</td>\n",
       "      <td>25-34 years</td>\n",
       "      <td>646</td>\n",
       "      <td>4796355</td>\n",
       "      <td>NaN</td>\n",
       "      <td>411,755,164,833</td>\n",
       "    </tr>\n",
       "    <tr>\n",
       "      <th>25306</th>\n",
       "      <td>Thailand</td>\n",
       "      <td>2016</td>\n",
       "      <td>male</td>\n",
       "      <td>15-24 years</td>\n",
       "      <td>322</td>\n",
       "      <td>4736305</td>\n",
       "      <td>NaN</td>\n",
       "      <td>411,755,164,833</td>\n",
       "    </tr>\n",
       "    <tr>\n",
       "      <th>25307</th>\n",
       "      <td>Thailand</td>\n",
       "      <td>2016</td>\n",
       "      <td>female</td>\n",
       "      <td>75+ years</td>\n",
       "      <td>69</td>\n",
       "      <td>1589015</td>\n",
       "      <td>NaN</td>\n",
       "      <td>411,755,164,833</td>\n",
       "    </tr>\n",
       "    <tr>\n",
       "      <th>25308</th>\n",
       "      <td>Thailand</td>\n",
       "      <td>2016</td>\n",
       "      <td>female</td>\n",
       "      <td>55-74 years</td>\n",
       "      <td>222</td>\n",
       "      <td>6049756</td>\n",
       "      <td>NaN</td>\n",
       "      <td>411,755,164,833</td>\n",
       "    </tr>\n",
       "    <tr>\n",
       "      <th>25309</th>\n",
       "      <td>Thailand</td>\n",
       "      <td>2016</td>\n",
       "      <td>female</td>\n",
       "      <td>35-54 years</td>\n",
       "      <td>375</td>\n",
       "      <td>10629684</td>\n",
       "      <td>NaN</td>\n",
       "      <td>411,755,164,833</td>\n",
       "    </tr>\n",
       "    <tr>\n",
       "      <th>25310</th>\n",
       "      <td>Thailand</td>\n",
       "      <td>2016</td>\n",
       "      <td>female</td>\n",
       "      <td>25-34 years</td>\n",
       "      <td>116</td>\n",
       "      <td>4702656</td>\n",
       "      <td>NaN</td>\n",
       "      <td>411,755,164,833</td>\n",
       "    </tr>\n",
       "    <tr>\n",
       "      <th>25311</th>\n",
       "      <td>Thailand</td>\n",
       "      <td>2016</td>\n",
       "      <td>female</td>\n",
       "      <td>15-24 years</td>\n",
       "      <td>6</td>\n",
       "      <td>4525574</td>\n",
       "      <td>NaN</td>\n",
       "      <td>411,755,164,833</td>\n",
       "    </tr>\n",
       "    <tr>\n",
       "      <th>27836</th>\n",
       "      <td>Thailand</td>\n",
       "      <td>2016</td>\n",
       "      <td>male</td>\n",
       "      <td>75+ years</td>\n",
       "      <td>152</td>\n",
       "      <td>1124052</td>\n",
       "      <td>NaN</td>\n",
       "      <td>411,755,164,833</td>\n",
       "    </tr>\n",
       "  </tbody>\n",
       "</table>\n",
       "</div>"
      ],
      "text/plain": [
       "        country  year     sex          age suicides_no  population  \\\n",
       "25302  Thailand  2016    male  55-74 years         734     5203957   \n",
       "25303  Thailand  2016    male  35-54 years        1421    10084647   \n",
       "25304  Thailand  2016    male    75+ years         152     1124052   \n",
       "25305  Thailand  2016    male  25-34 years         646     4796355   \n",
       "25306  Thailand  2016    male  15-24 years         322     4736305   \n",
       "25307  Thailand  2016  female    75+ years          69     1589015   \n",
       "25308  Thailand  2016  female  55-74 years         222     6049756   \n",
       "25309  Thailand  2016  female  35-54 years         375    10629684   \n",
       "25310  Thailand  2016  female  25-34 years         116     4702656   \n",
       "25311  Thailand  2016  female  15-24 years           6     4525574   \n",
       "27836  Thailand  2016    male    75+ years         152     1124052   \n",
       "\n",
       "       HDI for year  gdp_for_year ($)   \n",
       "25302           NaN    411,755,164,833  \n",
       "25303           NaN    411,755,164,833  \n",
       "25304           NaN    411,755,164,833  \n",
       "25305           NaN    411,755,164,833  \n",
       "25306           NaN    411,755,164,833  \n",
       "25307           NaN    411,755,164,833  \n",
       "25308           NaN    411,755,164,833  \n",
       "25309           NaN    411,755,164,833  \n",
       "25310           NaN    411,755,164,833  \n",
       "25311           NaN    411,755,164,833  \n",
       "27836           NaN    411,755,164,833  "
      ]
     },
     "execution_count": 995,
     "metadata": {},
     "output_type": "execute_result"
    }
   ],
   "source": [
    "who_data.loc[(who_data['country']=='Thailand') &(who_data['year']==2016)]"
   ]
  },
  {
   "cell_type": "markdown",
   "metadata": {},
   "source": [
    "The above dataframe shows the suicide data for Thailand in the 2016. \n",
    "1. Male 75+ years has been duplicated.\n",
    "2. Data for 5-14 years is missing"
   ]
  },
  {
   "cell_type": "markdown",
   "metadata": {},
   "source": [
    "#### Problem 3 - change the datatype of 'year' column"
   ]
  },
  {
   "cell_type": "code",
   "execution_count": 996,
   "metadata": {},
   "outputs": [
    {
     "data": {
      "text/plain": [
       "dtype('O')"
      ]
     },
     "execution_count": 996,
     "metadata": {},
     "output_type": "execute_result"
    }
   ],
   "source": [
    "who_data['suicides_no'].dtypes"
   ]
  },
  {
   "cell_type": "markdown",
   "metadata": {},
   "source": [
    "The output shows that column representing 'Number of suicides' is of the '(Python) objects' type.\n",
    "This column also contains the value 'Null' and 'Unknown'\n",
    "\n",
    "The following code converts it to integer by:\n",
    "\n",
    "1. Replace 'Null' and 'Unknown' values with 0\n",
    "2. Repalce NaN with 0\n",
    "3. Convert it to integer datatype"
   ]
  },
  {
   "cell_type": "code",
   "execution_count": 997,
   "metadata": {},
   "outputs": [
    {
     "data": {
      "text/plain": [
       "0         21\n",
       "1         16\n",
       "2         14\n",
       "3          1\n",
       "4          9\n",
       "        ... \n",
       "27835      6\n",
       "27836    152\n",
       "27837     21\n",
       "27838      0\n",
       "27839      7\n",
       "Name: suicides_no, Length: 27840, dtype: int64"
      ]
     },
     "execution_count": 997,
     "metadata": {},
     "output_type": "execute_result"
    }
   ],
   "source": [
    "who_data['suicides_no'] = who_data['suicides_no'].replace(['Null','Unknown'],'0').fillna(0).astype('int64')\n",
    "who_data['suicides_no']\n",
    "# who_data['suicides_no'].dtypes"
   ]
  },
  {
   "cell_type": "markdown",
   "metadata": {},
   "source": [
    "#### Problem 3 - change the datatype of 'GDP for a year' column"
   ]
  },
  {
   "cell_type": "code",
   "execution_count": 998,
   "metadata": {},
   "outputs": [
    {
     "data": {
      "text/plain": [
       "dtype('O')"
      ]
     },
     "execution_count": 998,
     "metadata": {},
     "output_type": "execute_result"
    }
   ],
   "source": [
    "who_data[' gdp_for_year ($) '].dtypes"
   ]
  },
  {
   "cell_type": "code",
   "execution_count": 999,
   "metadata": {},
   "outputs": [
    {
     "data": {
      "text/html": [
       "<div>\n",
       "<style scoped>\n",
       "    .dataframe tbody tr th:only-of-type {\n",
       "        vertical-align: middle;\n",
       "    }\n",
       "\n",
       "    .dataframe tbody tr th {\n",
       "        vertical-align: top;\n",
       "    }\n",
       "\n",
       "    .dataframe thead th {\n",
       "        text-align: right;\n",
       "    }\n",
       "</style>\n",
       "<table border=\"1\" class=\"dataframe\">\n",
       "  <thead>\n",
       "    <tr style=\"text-align: right;\">\n",
       "      <th></th>\n",
       "      <th>country</th>\n",
       "      <th>year</th>\n",
       "      <th>sex</th>\n",
       "      <th>age</th>\n",
       "      <th>suicides_no</th>\n",
       "      <th>population</th>\n",
       "      <th>HDI for year</th>\n",
       "      <th>gdp_for_year ($)</th>\n",
       "    </tr>\n",
       "  </thead>\n",
       "  <tbody>\n",
       "    <tr>\n",
       "      <th>0</th>\n",
       "      <td>Albania</td>\n",
       "      <td>1987</td>\n",
       "      <td>male</td>\n",
       "      <td>15-24 years</td>\n",
       "      <td>21</td>\n",
       "      <td>312900</td>\n",
       "      <td>NaN</td>\n",
       "      <td>2,156,624,900</td>\n",
       "    </tr>\n",
       "    <tr>\n",
       "      <th>1</th>\n",
       "      <td>Albania</td>\n",
       "      <td>1987</td>\n",
       "      <td>male</td>\n",
       "      <td>35-54 years</td>\n",
       "      <td>16</td>\n",
       "      <td>308000</td>\n",
       "      <td>NaN</td>\n",
       "      <td>2,156,624,900</td>\n",
       "    </tr>\n",
       "    <tr>\n",
       "      <th>2</th>\n",
       "      <td>Albania</td>\n",
       "      <td>1987</td>\n",
       "      <td>female</td>\n",
       "      <td>15-24 years</td>\n",
       "      <td>14</td>\n",
       "      <td>289700</td>\n",
       "      <td>NaN</td>\n",
       "      <td>2,156,624,900</td>\n",
       "    </tr>\n",
       "    <tr>\n",
       "      <th>3</th>\n",
       "      <td>Albania</td>\n",
       "      <td>1987</td>\n",
       "      <td>male</td>\n",
       "      <td>75+ years</td>\n",
       "      <td>1</td>\n",
       "      <td>21800</td>\n",
       "      <td>NaN</td>\n",
       "      <td>2,156,624,900</td>\n",
       "    </tr>\n",
       "    <tr>\n",
       "      <th>4</th>\n",
       "      <td>Albania</td>\n",
       "      <td>1987</td>\n",
       "      <td>male</td>\n",
       "      <td>25-34 years</td>\n",
       "      <td>9</td>\n",
       "      <td>274300</td>\n",
       "      <td>NaN</td>\n",
       "      <td>2,156,624,900</td>\n",
       "    </tr>\n",
       "  </tbody>\n",
       "</table>\n",
       "</div>"
      ],
      "text/plain": [
       "   country  year     sex          age  suicides_no  population  HDI for year  \\\n",
       "0  Albania  1987    male  15-24 years           21      312900           NaN   \n",
       "1  Albania  1987    male  35-54 years           16      308000           NaN   \n",
       "2  Albania  1987  female  15-24 years           14      289700           NaN   \n",
       "3  Albania  1987    male    75+ years            1       21800           NaN   \n",
       "4  Albania  1987    male  25-34 years            9      274300           NaN   \n",
       "\n",
       "   gdp_for_year ($)   \n",
       "0      2,156,624,900  \n",
       "1      2,156,624,900  \n",
       "2      2,156,624,900  \n",
       "3      2,156,624,900  \n",
       "4      2,156,624,900  "
      ]
     },
     "execution_count": 999,
     "metadata": {},
     "output_type": "execute_result"
    }
   ],
   "source": [
    "who_data.head()"
   ]
  },
  {
   "cell_type": "markdown",
   "metadata": {},
   "source": [
    "It is observed the datatype of ' gdp_for_year ($) ' is an object. This must be converted to integer for easier manipulation in our future computations. The following function 'commastrtoint' does the job by removing the commas and converting to an integer datatype"
   ]
  },
  {
   "cell_type": "code",
   "execution_count": 1000,
   "metadata": {},
   "outputs": [],
   "source": [
    "def commastrtoint(str1):\n",
    "    str2 = str1.replace(',', '')\n",
    "    \n",
    "    return int(str2)"
   ]
  },
  {
   "cell_type": "markdown",
   "metadata": {},
   "source": [
    "The 'apply' method is used to apply the transformation across the entire column as seen below:"
   ]
  },
  {
   "cell_type": "code",
   "execution_count": 1001,
   "metadata": {},
   "outputs": [],
   "source": [
    "who_data[' gdp_for_year ($) ']= who_data[' gdp_for_year ($) '].apply(lambda x: commastrtoint(x))"
   ]
  },
  {
   "cell_type": "code",
   "execution_count": 1002,
   "metadata": {},
   "outputs": [
    {
     "data": {
      "text/html": [
       "<div>\n",
       "<style scoped>\n",
       "    .dataframe tbody tr th:only-of-type {\n",
       "        vertical-align: middle;\n",
       "    }\n",
       "\n",
       "    .dataframe tbody tr th {\n",
       "        vertical-align: top;\n",
       "    }\n",
       "\n",
       "    .dataframe thead th {\n",
       "        text-align: right;\n",
       "    }\n",
       "</style>\n",
       "<table border=\"1\" class=\"dataframe\">\n",
       "  <thead>\n",
       "    <tr style=\"text-align: right;\">\n",
       "      <th></th>\n",
       "      <th>country</th>\n",
       "      <th>year</th>\n",
       "      <th>sex</th>\n",
       "      <th>age</th>\n",
       "      <th>suicides_no</th>\n",
       "      <th>population</th>\n",
       "      <th>HDI for year</th>\n",
       "      <th>gdp_for_year ($)</th>\n",
       "    </tr>\n",
       "  </thead>\n",
       "  <tbody>\n",
       "    <tr>\n",
       "      <th>0</th>\n",
       "      <td>Albania</td>\n",
       "      <td>1987</td>\n",
       "      <td>male</td>\n",
       "      <td>15-24 years</td>\n",
       "      <td>21</td>\n",
       "      <td>312900</td>\n",
       "      <td>NaN</td>\n",
       "      <td>2156624900</td>\n",
       "    </tr>\n",
       "    <tr>\n",
       "      <th>1</th>\n",
       "      <td>Albania</td>\n",
       "      <td>1987</td>\n",
       "      <td>male</td>\n",
       "      <td>35-54 years</td>\n",
       "      <td>16</td>\n",
       "      <td>308000</td>\n",
       "      <td>NaN</td>\n",
       "      <td>2156624900</td>\n",
       "    </tr>\n",
       "    <tr>\n",
       "      <th>2</th>\n",
       "      <td>Albania</td>\n",
       "      <td>1987</td>\n",
       "      <td>female</td>\n",
       "      <td>15-24 years</td>\n",
       "      <td>14</td>\n",
       "      <td>289700</td>\n",
       "      <td>NaN</td>\n",
       "      <td>2156624900</td>\n",
       "    </tr>\n",
       "    <tr>\n",
       "      <th>3</th>\n",
       "      <td>Albania</td>\n",
       "      <td>1987</td>\n",
       "      <td>male</td>\n",
       "      <td>75+ years</td>\n",
       "      <td>1</td>\n",
       "      <td>21800</td>\n",
       "      <td>NaN</td>\n",
       "      <td>2156624900</td>\n",
       "    </tr>\n",
       "    <tr>\n",
       "      <th>4</th>\n",
       "      <td>Albania</td>\n",
       "      <td>1987</td>\n",
       "      <td>male</td>\n",
       "      <td>25-34 years</td>\n",
       "      <td>9</td>\n",
       "      <td>274300</td>\n",
       "      <td>NaN</td>\n",
       "      <td>2156624900</td>\n",
       "    </tr>\n",
       "  </tbody>\n",
       "</table>\n",
       "</div>"
      ],
      "text/plain": [
       "   country  year     sex          age  suicides_no  population  HDI for year  \\\n",
       "0  Albania  1987    male  15-24 years           21      312900           NaN   \n",
       "1  Albania  1987    male  35-54 years           16      308000           NaN   \n",
       "2  Albania  1987  female  15-24 years           14      289700           NaN   \n",
       "3  Albania  1987    male    75+ years            1       21800           NaN   \n",
       "4  Albania  1987    male  25-34 years            9      274300           NaN   \n",
       "\n",
       "    gdp_for_year ($)   \n",
       "0          2156624900  \n",
       "1          2156624900  \n",
       "2          2156624900  \n",
       "3          2156624900  \n",
       "4          2156624900  "
      ]
     },
     "execution_count": 1002,
     "metadata": {},
     "output_type": "execute_result"
    }
   ],
   "source": [
    "who_data.head()"
   ]
  },
  {
   "cell_type": "markdown",
   "metadata": {},
   "source": [
    "### 3. Cleaning and Standardizing data"
   ]
  },
  {
   "cell_type": "markdown",
   "metadata": {},
   "source": [
    "Note: Some Cleaning/Standardizing has been done in the previous steps"
   ]
  },
  {
   "cell_type": "markdown",
   "metadata": {},
   "source": [
    "#### Dropping/Deleting the duplicates"
   ]
  },
  {
   "cell_type": "code",
   "execution_count": 1003,
   "metadata": {},
   "outputs": [
    {
     "data": {
      "text/html": [
       "<div>\n",
       "<style scoped>\n",
       "    .dataframe tbody tr th:only-of-type {\n",
       "        vertical-align: middle;\n",
       "    }\n",
       "\n",
       "    .dataframe tbody tr th {\n",
       "        vertical-align: top;\n",
       "    }\n",
       "\n",
       "    .dataframe thead th {\n",
       "        text-align: right;\n",
       "    }\n",
       "</style>\n",
       "<table border=\"1\" class=\"dataframe\">\n",
       "  <thead>\n",
       "    <tr style=\"text-align: right;\">\n",
       "      <th></th>\n",
       "      <th>country</th>\n",
       "      <th>year</th>\n",
       "      <th>sex</th>\n",
       "      <th>age</th>\n",
       "      <th>suicides_no</th>\n",
       "      <th>population</th>\n",
       "      <th>HDI for year</th>\n",
       "      <th>gdp_for_year ($)</th>\n",
       "    </tr>\n",
       "  </thead>\n",
       "  <tbody>\n",
       "    <tr>\n",
       "      <th>0</th>\n",
       "      <td>Albania</td>\n",
       "      <td>1987</td>\n",
       "      <td>male</td>\n",
       "      <td>15-24 years</td>\n",
       "      <td>21</td>\n",
       "      <td>312900</td>\n",
       "      <td>NaN</td>\n",
       "      <td>2156624900</td>\n",
       "    </tr>\n",
       "    <tr>\n",
       "      <th>1</th>\n",
       "      <td>Albania</td>\n",
       "      <td>1987</td>\n",
       "      <td>male</td>\n",
       "      <td>35-54 years</td>\n",
       "      <td>16</td>\n",
       "      <td>308000</td>\n",
       "      <td>NaN</td>\n",
       "      <td>2156624900</td>\n",
       "    </tr>\n",
       "    <tr>\n",
       "      <th>2</th>\n",
       "      <td>Albania</td>\n",
       "      <td>1987</td>\n",
       "      <td>female</td>\n",
       "      <td>15-24 years</td>\n",
       "      <td>14</td>\n",
       "      <td>289700</td>\n",
       "      <td>NaN</td>\n",
       "      <td>2156624900</td>\n",
       "    </tr>\n",
       "    <tr>\n",
       "      <th>3</th>\n",
       "      <td>Albania</td>\n",
       "      <td>1987</td>\n",
       "      <td>male</td>\n",
       "      <td>75+ years</td>\n",
       "      <td>1</td>\n",
       "      <td>21800</td>\n",
       "      <td>NaN</td>\n",
       "      <td>2156624900</td>\n",
       "    </tr>\n",
       "    <tr>\n",
       "      <th>4</th>\n",
       "      <td>Albania</td>\n",
       "      <td>1987</td>\n",
       "      <td>male</td>\n",
       "      <td>25-34 years</td>\n",
       "      <td>9</td>\n",
       "      <td>274300</td>\n",
       "      <td>NaN</td>\n",
       "      <td>2156624900</td>\n",
       "    </tr>\n",
       "    <tr>\n",
       "      <th>...</th>\n",
       "      <td>...</td>\n",
       "      <td>...</td>\n",
       "      <td>...</td>\n",
       "      <td>...</td>\n",
       "      <td>...</td>\n",
       "      <td>...</td>\n",
       "      <td>...</td>\n",
       "      <td>...</td>\n",
       "    </tr>\n",
       "    <tr>\n",
       "      <th>27815</th>\n",
       "      <td>Uzbekistan</td>\n",
       "      <td>2014</td>\n",
       "      <td>female</td>\n",
       "      <td>35-54 years</td>\n",
       "      <td>17</td>\n",
       "      <td>3620833</td>\n",
       "      <td>0.675</td>\n",
       "      <td>63067077179</td>\n",
       "    </tr>\n",
       "    <tr>\n",
       "      <th>27816</th>\n",
       "      <td>Uzbekistan</td>\n",
       "      <td>2014</td>\n",
       "      <td>female</td>\n",
       "      <td>75+ years</td>\n",
       "      <td>9</td>\n",
       "      <td>348465</td>\n",
       "      <td>0.675</td>\n",
       "      <td>63067077179</td>\n",
       "    </tr>\n",
       "    <tr>\n",
       "      <th>27817</th>\n",
       "      <td>Uzbekistan</td>\n",
       "      <td>2014</td>\n",
       "      <td>male</td>\n",
       "      <td>5-14 years</td>\n",
       "      <td>6</td>\n",
       "      <td>2762158</td>\n",
       "      <td>0.675</td>\n",
       "      <td>63067077179</td>\n",
       "    </tr>\n",
       "    <tr>\n",
       "      <th>27818</th>\n",
       "      <td>Uzbekistan</td>\n",
       "      <td>2014</td>\n",
       "      <td>female</td>\n",
       "      <td>5-14 years</td>\n",
       "      <td>44</td>\n",
       "      <td>2631600</td>\n",
       "      <td>0.675</td>\n",
       "      <td>63067077179</td>\n",
       "    </tr>\n",
       "    <tr>\n",
       "      <th>27819</th>\n",
       "      <td>Uzbekistan</td>\n",
       "      <td>2014</td>\n",
       "      <td>female</td>\n",
       "      <td>55-74 years</td>\n",
       "      <td>21</td>\n",
       "      <td>1438935</td>\n",
       "      <td>0.675</td>\n",
       "      <td>63067077179</td>\n",
       "    </tr>\n",
       "  </tbody>\n",
       "</table>\n",
       "<p>27820 rows × 8 columns</p>\n",
       "</div>"
      ],
      "text/plain": [
       "          country  year     sex          age  suicides_no  population  \\\n",
       "0         Albania  1987    male  15-24 years           21      312900   \n",
       "1         Albania  1987    male  35-54 years           16      308000   \n",
       "2         Albania  1987  female  15-24 years           14      289700   \n",
       "3         Albania  1987    male    75+ years            1       21800   \n",
       "4         Albania  1987    male  25-34 years            9      274300   \n",
       "...           ...   ...     ...          ...          ...         ...   \n",
       "27815  Uzbekistan  2014  female  35-54 years           17     3620833   \n",
       "27816  Uzbekistan  2014  female    75+ years            9      348465   \n",
       "27817  Uzbekistan  2014    male   5-14 years            6     2762158   \n",
       "27818  Uzbekistan  2014  female   5-14 years           44     2631600   \n",
       "27819  Uzbekistan  2014  female  55-74 years           21     1438935   \n",
       "\n",
       "       HDI for year   gdp_for_year ($)   \n",
       "0               NaN          2156624900  \n",
       "1               NaN          2156624900  \n",
       "2               NaN          2156624900  \n",
       "3               NaN          2156624900  \n",
       "4               NaN          2156624900  \n",
       "...             ...                 ...  \n",
       "27815         0.675         63067077179  \n",
       "27816         0.675         63067077179  \n",
       "27817         0.675         63067077179  \n",
       "27818         0.675         63067077179  \n",
       "27819         0.675         63067077179  \n",
       "\n",
       "[27820 rows x 8 columns]"
      ]
     },
     "execution_count": 1003,
     "metadata": {},
     "output_type": "execute_result"
    }
   ],
   "source": [
    "who_data.drop_duplicates(inplace = True) # Drops duplicate rows\n",
    "who_data"
   ]
  },
  {
   "cell_type": "markdown",
   "metadata": {},
   "source": [
    "It can be seen this resulted in 20 rows being dropped (total rows down from 27840 to 27820)"
   ]
  },
  {
   "cell_type": "markdown",
   "metadata": {},
   "source": [
    "#### Replacing NaN values with 0.0 in HDI for year"
   ]
  },
  {
   "cell_type": "code",
   "execution_count": 1004,
   "metadata": {},
   "outputs": [
    {
     "data": {
      "text/html": [
       "<div>\n",
       "<style scoped>\n",
       "    .dataframe tbody tr th:only-of-type {\n",
       "        vertical-align: middle;\n",
       "    }\n",
       "\n",
       "    .dataframe tbody tr th {\n",
       "        vertical-align: top;\n",
       "    }\n",
       "\n",
       "    .dataframe thead th {\n",
       "        text-align: right;\n",
       "    }\n",
       "</style>\n",
       "<table border=\"1\" class=\"dataframe\">\n",
       "  <thead>\n",
       "    <tr style=\"text-align: right;\">\n",
       "      <th></th>\n",
       "      <th>country</th>\n",
       "      <th>year</th>\n",
       "      <th>sex</th>\n",
       "      <th>age</th>\n",
       "      <th>suicides_no</th>\n",
       "      <th>population</th>\n",
       "      <th>HDI for year</th>\n",
       "      <th>gdp_for_year ($)</th>\n",
       "    </tr>\n",
       "  </thead>\n",
       "  <tbody>\n",
       "    <tr>\n",
       "      <th>0</th>\n",
       "      <td>Albania</td>\n",
       "      <td>1987</td>\n",
       "      <td>male</td>\n",
       "      <td>15-24 years</td>\n",
       "      <td>21</td>\n",
       "      <td>312900</td>\n",
       "      <td>0.0</td>\n",
       "      <td>2156624900</td>\n",
       "    </tr>\n",
       "    <tr>\n",
       "      <th>1</th>\n",
       "      <td>Albania</td>\n",
       "      <td>1987</td>\n",
       "      <td>male</td>\n",
       "      <td>35-54 years</td>\n",
       "      <td>16</td>\n",
       "      <td>308000</td>\n",
       "      <td>0.0</td>\n",
       "      <td>2156624900</td>\n",
       "    </tr>\n",
       "    <tr>\n",
       "      <th>2</th>\n",
       "      <td>Albania</td>\n",
       "      <td>1987</td>\n",
       "      <td>female</td>\n",
       "      <td>15-24 years</td>\n",
       "      <td>14</td>\n",
       "      <td>289700</td>\n",
       "      <td>0.0</td>\n",
       "      <td>2156624900</td>\n",
       "    </tr>\n",
       "    <tr>\n",
       "      <th>3</th>\n",
       "      <td>Albania</td>\n",
       "      <td>1987</td>\n",
       "      <td>male</td>\n",
       "      <td>75+ years</td>\n",
       "      <td>1</td>\n",
       "      <td>21800</td>\n",
       "      <td>0.0</td>\n",
       "      <td>2156624900</td>\n",
       "    </tr>\n",
       "    <tr>\n",
       "      <th>4</th>\n",
       "      <td>Albania</td>\n",
       "      <td>1987</td>\n",
       "      <td>male</td>\n",
       "      <td>25-34 years</td>\n",
       "      <td>9</td>\n",
       "      <td>274300</td>\n",
       "      <td>0.0</td>\n",
       "      <td>2156624900</td>\n",
       "    </tr>\n",
       "  </tbody>\n",
       "</table>\n",
       "</div>"
      ],
      "text/plain": [
       "   country  year     sex          age  suicides_no  population  HDI for year  \\\n",
       "0  Albania  1987    male  15-24 years           21      312900           0.0   \n",
       "1  Albania  1987    male  35-54 years           16      308000           0.0   \n",
       "2  Albania  1987  female  15-24 years           14      289700           0.0   \n",
       "3  Albania  1987    male    75+ years            1       21800           0.0   \n",
       "4  Albania  1987    male  25-34 years            9      274300           0.0   \n",
       "\n",
       "    gdp_for_year ($)   \n",
       "0          2156624900  \n",
       "1          2156624900  \n",
       "2          2156624900  \n",
       "3          2156624900  \n",
       "4          2156624900  "
      ]
     },
     "execution_count": 1004,
     "metadata": {},
     "output_type": "execute_result"
    }
   ],
   "source": [
    "who_data['HDI for year'] = who_data['HDI for year'].fillna(0)\n",
    "who_data.head()"
   ]
  },
  {
   "cell_type": "markdown",
   "metadata": {},
   "source": [
    "#### Renaming columns for ease of use"
   ]
  },
  {
   "cell_type": "code",
   "execution_count": 1005,
   "metadata": {},
   "outputs": [
    {
     "data": {
      "text/html": [
       "<div>\n",
       "<style scoped>\n",
       "    .dataframe tbody tr th:only-of-type {\n",
       "        vertical-align: middle;\n",
       "    }\n",
       "\n",
       "    .dataframe tbody tr th {\n",
       "        vertical-align: top;\n",
       "    }\n",
       "\n",
       "    .dataframe thead th {\n",
       "        text-align: right;\n",
       "    }\n",
       "</style>\n",
       "<table border=\"1\" class=\"dataframe\">\n",
       "  <thead>\n",
       "    <tr style=\"text-align: right;\">\n",
       "      <th></th>\n",
       "      <th>country</th>\n",
       "      <th>year</th>\n",
       "      <th>sex</th>\n",
       "      <th>age</th>\n",
       "      <th>SuicidesNo</th>\n",
       "      <th>population</th>\n",
       "      <th>HDIForYear</th>\n",
       "      <th>GDPForYearMoney</th>\n",
       "    </tr>\n",
       "  </thead>\n",
       "  <tbody>\n",
       "    <tr>\n",
       "      <th>0</th>\n",
       "      <td>Albania</td>\n",
       "      <td>1987</td>\n",
       "      <td>male</td>\n",
       "      <td>15-24 years</td>\n",
       "      <td>21</td>\n",
       "      <td>312900</td>\n",
       "      <td>0.0</td>\n",
       "      <td>2156624900</td>\n",
       "    </tr>\n",
       "    <tr>\n",
       "      <th>1</th>\n",
       "      <td>Albania</td>\n",
       "      <td>1987</td>\n",
       "      <td>male</td>\n",
       "      <td>35-54 years</td>\n",
       "      <td>16</td>\n",
       "      <td>308000</td>\n",
       "      <td>0.0</td>\n",
       "      <td>2156624900</td>\n",
       "    </tr>\n",
       "    <tr>\n",
       "      <th>2</th>\n",
       "      <td>Albania</td>\n",
       "      <td>1987</td>\n",
       "      <td>female</td>\n",
       "      <td>15-24 years</td>\n",
       "      <td>14</td>\n",
       "      <td>289700</td>\n",
       "      <td>0.0</td>\n",
       "      <td>2156624900</td>\n",
       "    </tr>\n",
       "    <tr>\n",
       "      <th>3</th>\n",
       "      <td>Albania</td>\n",
       "      <td>1987</td>\n",
       "      <td>male</td>\n",
       "      <td>75+ years</td>\n",
       "      <td>1</td>\n",
       "      <td>21800</td>\n",
       "      <td>0.0</td>\n",
       "      <td>2156624900</td>\n",
       "    </tr>\n",
       "    <tr>\n",
       "      <th>4</th>\n",
       "      <td>Albania</td>\n",
       "      <td>1987</td>\n",
       "      <td>male</td>\n",
       "      <td>25-34 years</td>\n",
       "      <td>9</td>\n",
       "      <td>274300</td>\n",
       "      <td>0.0</td>\n",
       "      <td>2156624900</td>\n",
       "    </tr>\n",
       "  </tbody>\n",
       "</table>\n",
       "</div>"
      ],
      "text/plain": [
       "   country  year     sex          age  SuicidesNo  population  HDIForYear  \\\n",
       "0  Albania  1987    male  15-24 years          21      312900         0.0   \n",
       "1  Albania  1987    male  35-54 years          16      308000         0.0   \n",
       "2  Albania  1987  female  15-24 years          14      289700         0.0   \n",
       "3  Albania  1987    male    75+ years           1       21800         0.0   \n",
       "4  Albania  1987    male  25-34 years           9      274300         0.0   \n",
       "\n",
       "   GDPForYearMoney  \n",
       "0       2156624900  \n",
       "1       2156624900  \n",
       "2       2156624900  \n",
       "3       2156624900  \n",
       "4       2156624900  "
      ]
     },
     "execution_count": 1005,
     "metadata": {},
     "output_type": "execute_result"
    }
   ],
   "source": [
    "who_data=who_data.rename(columns={'suicides_no':'SuicidesNo','HDI for year':'HDIForYear',' gdp_for_year ($) ':'GDPForYearMoney'})\n",
    "who_data.head()"
   ]
  },
  {
   "cell_type": "markdown",
   "metadata": {},
   "source": [
    "### 4. Add Suicide/100k Column"
   ]
  },
  {
   "cell_type": "code",
   "execution_count": 1006,
   "metadata": {},
   "outputs": [
    {
     "data": {
      "text/html": [
       "<div>\n",
       "<style scoped>\n",
       "    .dataframe tbody tr th:only-of-type {\n",
       "        vertical-align: middle;\n",
       "    }\n",
       "\n",
       "    .dataframe tbody tr th {\n",
       "        vertical-align: top;\n",
       "    }\n",
       "\n",
       "    .dataframe thead th {\n",
       "        text-align: right;\n",
       "    }\n",
       "</style>\n",
       "<table border=\"1\" class=\"dataframe\">\n",
       "  <thead>\n",
       "    <tr style=\"text-align: right;\">\n",
       "      <th></th>\n",
       "      <th>country</th>\n",
       "      <th>suicidesper100k</th>\n",
       "    </tr>\n",
       "  </thead>\n",
       "  <tbody>\n",
       "    <tr>\n",
       "      <th>0</th>\n",
       "      <td>Albania</td>\n",
       "      <td>6.71</td>\n",
       "    </tr>\n",
       "    <tr>\n",
       "      <th>1</th>\n",
       "      <td>Albania</td>\n",
       "      <td>5.19</td>\n",
       "    </tr>\n",
       "    <tr>\n",
       "      <th>2</th>\n",
       "      <td>Albania</td>\n",
       "      <td>4.83</td>\n",
       "    </tr>\n",
       "    <tr>\n",
       "      <th>3</th>\n",
       "      <td>Albania</td>\n",
       "      <td>4.59</td>\n",
       "    </tr>\n",
       "    <tr>\n",
       "      <th>4</th>\n",
       "      <td>Albania</td>\n",
       "      <td>3.28</td>\n",
       "    </tr>\n",
       "    <tr>\n",
       "      <th>...</th>\n",
       "      <td>...</td>\n",
       "      <td>...</td>\n",
       "    </tr>\n",
       "    <tr>\n",
       "      <th>27815</th>\n",
       "      <td>Uzbekistan</td>\n",
       "      <td>0.47</td>\n",
       "    </tr>\n",
       "    <tr>\n",
       "      <th>27816</th>\n",
       "      <td>Uzbekistan</td>\n",
       "      <td>2.58</td>\n",
       "    </tr>\n",
       "    <tr>\n",
       "      <th>27817</th>\n",
       "      <td>Uzbekistan</td>\n",
       "      <td>0.22</td>\n",
       "    </tr>\n",
       "    <tr>\n",
       "      <th>27818</th>\n",
       "      <td>Uzbekistan</td>\n",
       "      <td>1.67</td>\n",
       "    </tr>\n",
       "    <tr>\n",
       "      <th>27819</th>\n",
       "      <td>Uzbekistan</td>\n",
       "      <td>1.46</td>\n",
       "    </tr>\n",
       "  </tbody>\n",
       "</table>\n",
       "<p>27820 rows × 2 columns</p>\n",
       "</div>"
      ],
      "text/plain": [
       "          country  suicidesper100k\n",
       "0         Albania             6.71\n",
       "1         Albania             5.19\n",
       "2         Albania             4.83\n",
       "3         Albania             4.59\n",
       "4         Albania             3.28\n",
       "...           ...              ...\n",
       "27815  Uzbekistan             0.47\n",
       "27816  Uzbekistan             2.58\n",
       "27817  Uzbekistan             0.22\n",
       "27818  Uzbekistan             1.67\n",
       "27819  Uzbekistan             1.46\n",
       "\n",
       "[27820 rows x 2 columns]"
      ]
     },
     "execution_count": 1006,
     "metadata": {},
     "output_type": "execute_result"
    }
   ],
   "source": [
    "who_data['suicidesper100k'] = round(who_data.SuicidesNo/(who_data.population/100_000),2) # Rounded to the 2 decimals\n",
    "who_data[['country','suicidesper100k']]"
   ]
  },
  {
   "cell_type": "markdown",
   "metadata": {},
   "source": [
    "### 5. Adding Generation Column"
   ]
  },
  {
   "cell_type": "code",
   "execution_count": 1007,
   "metadata": {},
   "outputs": [
    {
     "data": {
      "text/plain": [
       "0        15-24 years\n",
       "1        35-54 years\n",
       "2        15-24 years\n",
       "3          75+ years\n",
       "4        25-34 years\n",
       "            ...     \n",
       "27815    35-54 years\n",
       "27816      75+ years\n",
       "27817     5-14 years\n",
       "27818     5-14 years\n",
       "27819    55-74 years\n",
       "Name: age, Length: 27820, dtype: object"
      ]
     },
     "execution_count": 1007,
     "metadata": {},
     "output_type": "execute_result"
    }
   ],
   "source": [
    "who_data.age"
   ]
  },
  {
   "cell_type": "markdown",
   "metadata": {},
   "source": [
    "As seen from the above output, the characters before '-' and '+' are of interest. Using the split method, the characters before these special symbols are extracted and converted to integer type as seen in the function below:"
   ]
  },
  {
   "cell_type": "code",
   "execution_count": 1008,
   "metadata": {},
   "outputs": [
    {
     "data": {
      "text/plain": [
       "0        15\n",
       "1        35\n",
       "2        15\n",
       "3        75\n",
       "4        25\n",
       "         ..\n",
       "27815    35\n",
       "27816    75\n",
       "27817     5\n",
       "27818     5\n",
       "27819    55\n",
       "Name: AgeLowerBound, Length: 27820, dtype: int64"
      ]
     },
     "execution_count": 1008,
     "metadata": {},
     "output_type": "execute_result"
    }
   ],
   "source": [
    "def AgeLowerBound(str1):\n",
    "    \n",
    "    if str1.count('-')>0:\n",
    "        return int(str1.split(\"-\")[0])\n",
    "    else:\n",
    "        return int(str1.split(\"+\")[0])\n",
    "\n",
    "who_data['AgeLowerBound'] = who_data['age'].apply(lambda x: AgeLowerBound(x))\n",
    "who_data['AgeLowerBound']"
   ]
  },
  {
   "cell_type": "markdown",
   "metadata": {},
   "source": [
    "To create a new column which adds an additional classifer based on the age groups in the dataset, the following function is defined to create a column based on the conditions given in the problem statement:"
   ]
  },
  {
   "cell_type": "code",
   "execution_count": 1009,
   "metadata": {},
   "outputs": [],
   "source": [
    "def generationdef(year,AgeLowerBound):\n",
    "    if  (1883 <=  (year - AgeLowerBound)  <= 1900):\n",
    "        return 'Lost Generation'\n",
    "    elif  (1901 <=  (year - AgeLowerBound)  <= 1927):\n",
    "        return 'GI Generation'\n",
    "    elif  (1928 <=  (year - AgeLowerBound)  <= 1945):\n",
    "        return 'Silent'    \n",
    "    elif  (1946 <=  (year - AgeLowerBound)  <= 1964):\n",
    "        return 'Boomers'\n",
    "    elif  (1965 <=  (year - AgeLowerBound)  <= 1980):\n",
    "        return 'Generation X'\n",
    "    elif  (1981 <=  (year - AgeLowerBound)  <= 1995):\n",
    "        return 'Millenials'\n",
    "    elif  (1996 <=  (year - AgeLowerBound)  <= 2010):\n",
    "        return 'Generation Z'\n",
    "    elif  (2011 <=(year - AgeLowerBound)  <= 2025):\n",
    "        return 'Generation A'\n",
    "    else:\n",
    "        return 'Not in Any Generation Group'\n",
    "\n",
    "who_data['Generation'] = who_data.apply(lambda df: generationdef(df['year'],df['AgeLowerBound']),axis=1)\n",
    "who_data.drop(columns = ['AgeLowerBound'],inplace = True) "
   ]
  },
  {
   "cell_type": "markdown",
   "metadata": {},
   "source": [
    "Once the Generation column has been added, the column showing the lower bound age group of every row is dropped as it wont be of any use in the future"
   ]
  },
  {
   "cell_type": "markdown",
   "metadata": {},
   "source": [
    "### 6. Adding GDP per capita Column"
   ]
  },
  {
   "cell_type": "markdown",
   "metadata": {},
   "source": [
    "To compute GDP per capita, total population for a particular year must be calculated first. This is done using the following code:"
   ]
  },
  {
   "cell_type": "code",
   "execution_count": 1010,
   "metadata": {},
   "outputs": [
    {
     "data": {
      "text/html": [
       "<div>\n",
       "<style scoped>\n",
       "    .dataframe tbody tr th:only-of-type {\n",
       "        vertical-align: middle;\n",
       "    }\n",
       "\n",
       "    .dataframe tbody tr th {\n",
       "        vertical-align: top;\n",
       "    }\n",
       "\n",
       "    .dataframe thead th {\n",
       "        text-align: right;\n",
       "    }\n",
       "</style>\n",
       "<table border=\"1\" class=\"dataframe\">\n",
       "  <thead>\n",
       "    <tr style=\"text-align: right;\">\n",
       "      <th></th>\n",
       "      <th>country</th>\n",
       "      <th>year</th>\n",
       "      <th>TotalPopulationYear</th>\n",
       "    </tr>\n",
       "  </thead>\n",
       "  <tbody>\n",
       "    <tr>\n",
       "      <th>0</th>\n",
       "      <td>Albania</td>\n",
       "      <td>1987</td>\n",
       "      <td>2709600</td>\n",
       "    </tr>\n",
       "    <tr>\n",
       "      <th>1</th>\n",
       "      <td>Albania</td>\n",
       "      <td>1988</td>\n",
       "      <td>2764300</td>\n",
       "    </tr>\n",
       "    <tr>\n",
       "      <th>2</th>\n",
       "      <td>Albania</td>\n",
       "      <td>1989</td>\n",
       "      <td>2803100</td>\n",
       "    </tr>\n",
       "    <tr>\n",
       "      <th>3</th>\n",
       "      <td>Albania</td>\n",
       "      <td>1992</td>\n",
       "      <td>2822500</td>\n",
       "    </tr>\n",
       "    <tr>\n",
       "      <th>4</th>\n",
       "      <td>Albania</td>\n",
       "      <td>1993</td>\n",
       "      <td>2807300</td>\n",
       "    </tr>\n",
       "    <tr>\n",
       "      <th>...</th>\n",
       "      <td>...</td>\n",
       "      <td>...</td>\n",
       "      <td>...</td>\n",
       "    </tr>\n",
       "    <tr>\n",
       "      <th>2316</th>\n",
       "      <td>Uzbekistan</td>\n",
       "      <td>2010</td>\n",
       "      <td>25651783</td>\n",
       "    </tr>\n",
       "    <tr>\n",
       "      <th>2317</th>\n",
       "      <td>Uzbekistan</td>\n",
       "      <td>2011</td>\n",
       "      <td>25978049</td>\n",
       "    </tr>\n",
       "    <tr>\n",
       "      <th>2318</th>\n",
       "      <td>Uzbekistan</td>\n",
       "      <td>2012</td>\n",
       "      <td>26381830</td>\n",
       "    </tr>\n",
       "    <tr>\n",
       "      <th>2319</th>\n",
       "      <td>Uzbekistan</td>\n",
       "      <td>2013</td>\n",
       "      <td>26838924</td>\n",
       "    </tr>\n",
       "    <tr>\n",
       "      <th>2320</th>\n",
       "      <td>Uzbekistan</td>\n",
       "      <td>2014</td>\n",
       "      <td>27313507</td>\n",
       "    </tr>\n",
       "  </tbody>\n",
       "</table>\n",
       "<p>2321 rows × 3 columns</p>\n",
       "</div>"
      ],
      "text/plain": [
       "         country  year  TotalPopulationYear\n",
       "0        Albania  1987              2709600\n",
       "1        Albania  1988              2764300\n",
       "2        Albania  1989              2803100\n",
       "3        Albania  1992              2822500\n",
       "4        Albania  1993              2807300\n",
       "...          ...   ...                  ...\n",
       "2316  Uzbekistan  2010             25651783\n",
       "2317  Uzbekistan  2011             25978049\n",
       "2318  Uzbekistan  2012             26381830\n",
       "2319  Uzbekistan  2013             26838924\n",
       "2320  Uzbekistan  2014             27313507\n",
       "\n",
       "[2321 rows x 3 columns]"
      ]
     },
     "execution_count": 1010,
     "metadata": {},
     "output_type": "execute_result"
    }
   ],
   "source": [
    "del df\n",
    "df = who_data.groupby(['country','year'])['population'].sum().to_frame()\n",
    "df = df.reset_index()\n",
    "df = df.rename(columns={'population': 'TotalPopulationYear'})\n",
    "df"
   ]
  },
  {
   "cell_type": "markdown",
   "metadata": {},
   "source": [
    "An Unique Indentifier is manually created to correctly map the total population of a particular country in a given year to the correct row in the dataset. This Unique Indentifier is created by combining the 'country' column with the 'year' column which is then set as the index of the dataframe."
   ]
  },
  {
   "cell_type": "code",
   "execution_count": 1011,
   "metadata": {},
   "outputs": [
    {
     "data": {
      "text/html": [
       "<div>\n",
       "<style scoped>\n",
       "    .dataframe tbody tr th:only-of-type {\n",
       "        vertical-align: middle;\n",
       "    }\n",
       "\n",
       "    .dataframe tbody tr th {\n",
       "        vertical-align: top;\n",
       "    }\n",
       "\n",
       "    .dataframe thead th {\n",
       "        text-align: right;\n",
       "    }\n",
       "</style>\n",
       "<table border=\"1\" class=\"dataframe\">\n",
       "  <thead>\n",
       "    <tr style=\"text-align: right;\">\n",
       "      <th></th>\n",
       "      <th>TotalPopulationYear</th>\n",
       "    </tr>\n",
       "    <tr>\n",
       "      <th>country_year</th>\n",
       "      <th></th>\n",
       "    </tr>\n",
       "  </thead>\n",
       "  <tbody>\n",
       "    <tr>\n",
       "      <th>Albania 1987</th>\n",
       "      <td>2709600</td>\n",
       "    </tr>\n",
       "    <tr>\n",
       "      <th>Albania 1988</th>\n",
       "      <td>2764300</td>\n",
       "    </tr>\n",
       "    <tr>\n",
       "      <th>Albania 1989</th>\n",
       "      <td>2803100</td>\n",
       "    </tr>\n",
       "    <tr>\n",
       "      <th>Albania 1992</th>\n",
       "      <td>2822500</td>\n",
       "    </tr>\n",
       "    <tr>\n",
       "      <th>Albania 1993</th>\n",
       "      <td>2807300</td>\n",
       "    </tr>\n",
       "    <tr>\n",
       "      <th>...</th>\n",
       "      <td>...</td>\n",
       "    </tr>\n",
       "    <tr>\n",
       "      <th>Uzbekistan 2010</th>\n",
       "      <td>25651783</td>\n",
       "    </tr>\n",
       "    <tr>\n",
       "      <th>Uzbekistan 2011</th>\n",
       "      <td>25978049</td>\n",
       "    </tr>\n",
       "    <tr>\n",
       "      <th>Uzbekistan 2012</th>\n",
       "      <td>26381830</td>\n",
       "    </tr>\n",
       "    <tr>\n",
       "      <th>Uzbekistan 2013</th>\n",
       "      <td>26838924</td>\n",
       "    </tr>\n",
       "    <tr>\n",
       "      <th>Uzbekistan 2014</th>\n",
       "      <td>27313507</td>\n",
       "    </tr>\n",
       "  </tbody>\n",
       "</table>\n",
       "<p>2321 rows × 1 columns</p>\n",
       "</div>"
      ],
      "text/plain": [
       "                 TotalPopulationYear\n",
       "country_year                        \n",
       "Albania 1987                 2709600\n",
       "Albania 1988                 2764300\n",
       "Albania 1989                 2803100\n",
       "Albania 1992                 2822500\n",
       "Albania 1993                 2807300\n",
       "...                              ...\n",
       "Uzbekistan 2010             25651783\n",
       "Uzbekistan 2011             25978049\n",
       "Uzbekistan 2012             26381830\n",
       "Uzbekistan 2013             26838924\n",
       "Uzbekistan 2014             27313507\n",
       "\n",
       "[2321 rows x 1 columns]"
      ]
     },
     "execution_count": 1011,
     "metadata": {},
     "output_type": "execute_result"
    }
   ],
   "source": [
    "df['year'] = df['year'] .astype('str')\n",
    "df['country_year'] = df['country'] + ' ' + (df['year'])\n",
    "df = df.drop(['year', 'country'], axis=1)\n",
    "df = df.set_index('country_year')\n",
    "df"
   ]
  },
  {
   "cell_type": "markdown",
   "metadata": {},
   "source": [
    "The same operation is done on the who_data Dataframe as this column values will be used to perform the left join operation."
   ]
  },
  {
   "cell_type": "code",
   "execution_count": 1012,
   "metadata": {},
   "outputs": [
    {
     "data": {
      "text/html": [
       "<div>\n",
       "<style scoped>\n",
       "    .dataframe tbody tr th:only-of-type {\n",
       "        vertical-align: middle;\n",
       "    }\n",
       "\n",
       "    .dataframe tbody tr th {\n",
       "        vertical-align: top;\n",
       "    }\n",
       "\n",
       "    .dataframe thead th {\n",
       "        text-align: right;\n",
       "    }\n",
       "</style>\n",
       "<table border=\"1\" class=\"dataframe\">\n",
       "  <thead>\n",
       "    <tr style=\"text-align: right;\">\n",
       "      <th></th>\n",
       "      <th>country</th>\n",
       "      <th>year</th>\n",
       "      <th>sex</th>\n",
       "      <th>age</th>\n",
       "      <th>SuicidesNo</th>\n",
       "      <th>population</th>\n",
       "      <th>HDIForYear</th>\n",
       "      <th>GDPForYearMoney</th>\n",
       "      <th>suicidesper100k</th>\n",
       "      <th>Generation</th>\n",
       "      <th>TotalPopulationYear</th>\n",
       "      <th>GDPperCapita</th>\n",
       "    </tr>\n",
       "  </thead>\n",
       "  <tbody>\n",
       "    <tr>\n",
       "      <th>0</th>\n",
       "      <td>Albania</td>\n",
       "      <td>1987</td>\n",
       "      <td>male</td>\n",
       "      <td>15-24 years</td>\n",
       "      <td>21</td>\n",
       "      <td>312900</td>\n",
       "      <td>0.0</td>\n",
       "      <td>2156624900</td>\n",
       "      <td>6.71</td>\n",
       "      <td>Generation X</td>\n",
       "      <td>2709600</td>\n",
       "      <td>795.920025</td>\n",
       "    </tr>\n",
       "    <tr>\n",
       "      <th>1</th>\n",
       "      <td>Albania</td>\n",
       "      <td>1987</td>\n",
       "      <td>male</td>\n",
       "      <td>35-54 years</td>\n",
       "      <td>16</td>\n",
       "      <td>308000</td>\n",
       "      <td>0.0</td>\n",
       "      <td>2156624900</td>\n",
       "      <td>5.19</td>\n",
       "      <td>Boomers</td>\n",
       "      <td>2709600</td>\n",
       "      <td>795.920025</td>\n",
       "    </tr>\n",
       "    <tr>\n",
       "      <th>2</th>\n",
       "      <td>Albania</td>\n",
       "      <td>1987</td>\n",
       "      <td>female</td>\n",
       "      <td>15-24 years</td>\n",
       "      <td>14</td>\n",
       "      <td>289700</td>\n",
       "      <td>0.0</td>\n",
       "      <td>2156624900</td>\n",
       "      <td>4.83</td>\n",
       "      <td>Generation X</td>\n",
       "      <td>2709600</td>\n",
       "      <td>795.920025</td>\n",
       "    </tr>\n",
       "    <tr>\n",
       "      <th>3</th>\n",
       "      <td>Albania</td>\n",
       "      <td>1987</td>\n",
       "      <td>male</td>\n",
       "      <td>75+ years</td>\n",
       "      <td>1</td>\n",
       "      <td>21800</td>\n",
       "      <td>0.0</td>\n",
       "      <td>2156624900</td>\n",
       "      <td>4.59</td>\n",
       "      <td>GI Generation</td>\n",
       "      <td>2709600</td>\n",
       "      <td>795.920025</td>\n",
       "    </tr>\n",
       "    <tr>\n",
       "      <th>4</th>\n",
       "      <td>Albania</td>\n",
       "      <td>1987</td>\n",
       "      <td>male</td>\n",
       "      <td>25-34 years</td>\n",
       "      <td>9</td>\n",
       "      <td>274300</td>\n",
       "      <td>0.0</td>\n",
       "      <td>2156624900</td>\n",
       "      <td>3.28</td>\n",
       "      <td>Boomers</td>\n",
       "      <td>2709600</td>\n",
       "      <td>795.920025</td>\n",
       "    </tr>\n",
       "  </tbody>\n",
       "</table>\n",
       "</div>"
      ],
      "text/plain": [
       "   country  year     sex          age  SuicidesNo  population  HDIForYear  \\\n",
       "0  Albania  1987    male  15-24 years          21      312900         0.0   \n",
       "1  Albania  1987    male  35-54 years          16      308000         0.0   \n",
       "2  Albania  1987  female  15-24 years          14      289700         0.0   \n",
       "3  Albania  1987    male    75+ years           1       21800         0.0   \n",
       "4  Albania  1987    male  25-34 years           9      274300         0.0   \n",
       "\n",
       "   GDPForYearMoney  suicidesper100k     Generation  TotalPopulationYear  \\\n",
       "0       2156624900             6.71   Generation X              2709600   \n",
       "1       2156624900             5.19        Boomers              2709600   \n",
       "2       2156624900             4.83   Generation X              2709600   \n",
       "3       2156624900             4.59  GI Generation              2709600   \n",
       "4       2156624900             3.28        Boomers              2709600   \n",
       "\n",
       "   GDPperCapita  \n",
       "0    795.920025  \n",
       "1    795.920025  \n",
       "2    795.920025  \n",
       "3    795.920025  \n",
       "4    795.920025  "
      ]
     },
     "execution_count": 1012,
     "metadata": {},
     "output_type": "execute_result"
    }
   ],
   "source": [
    "who_data['country_year'] = who_data['country'] + ' ' + who_data['year'] .astype('str')\n",
    "who_data = who_data.join(df,on='country_year') #  Left join operation performed here on the common column - country_year\n",
    "who_data['GDPperCapita'] = who_data.GDPForYearMoney/(who_data.TotalPopulationYear) \n",
    "who_data = who_data.drop(['country_year'], axis=1)\n",
    "who_data.head()"
   ]
  },
  {
   "cell_type": "markdown",
   "metadata": {},
   "source": [
    "The above result shows the joined dataframes on the common column - country_year which was then dropped. The GDPperCapita is also computed and displayed for the first five rows"
   ]
  },
  {
   "cell_type": "markdown",
   "metadata": {},
   "source": [
    "### 7. Ranking countries based on the number of suicides"
   ]
  },
  {
   "cell_type": "markdown",
   "metadata": {},
   "source": [
    "1. Groupby method is used to group the dataset by country and calculate the total number of suicides for each country. \n",
    "2. Then, rank method is used to rank (in descending order).\n",
    "3. The sort_values method is then applied on the rank column to sort the dataframe based on the rank"
   ]
  },
  {
   "cell_type": "code",
   "execution_count": 1013,
   "metadata": {},
   "outputs": [
    {
     "data": {
      "text/html": [
       "<div>\n",
       "<style scoped>\n",
       "    .dataframe tbody tr th:only-of-type {\n",
       "        vertical-align: middle;\n",
       "    }\n",
       "\n",
       "    .dataframe tbody tr th {\n",
       "        vertical-align: top;\n",
       "    }\n",
       "\n",
       "    .dataframe thead th {\n",
       "        text-align: right;\n",
       "    }\n",
       "</style>\n",
       "<table border=\"1\" class=\"dataframe\">\n",
       "  <thead>\n",
       "    <tr style=\"text-align: right;\">\n",
       "      <th></th>\n",
       "      <th>SuicidesNo</th>\n",
       "      <th>rank</th>\n",
       "    </tr>\n",
       "    <tr>\n",
       "      <th>country</th>\n",
       "      <th></th>\n",
       "      <th></th>\n",
       "    </tr>\n",
       "  </thead>\n",
       "  <tbody>\n",
       "    <tr>\n",
       "      <th>Russian Federation</th>\n",
       "      <td>815965</td>\n",
       "      <td>1.0</td>\n",
       "    </tr>\n",
       "    <tr>\n",
       "      <th>United States</th>\n",
       "      <td>759837</td>\n",
       "      <td>2.0</td>\n",
       "    </tr>\n",
       "    <tr>\n",
       "      <th>Japan</th>\n",
       "      <td>635785</td>\n",
       "      <td>3.0</td>\n",
       "    </tr>\n",
       "    <tr>\n",
       "      <th>France</th>\n",
       "      <td>240432</td>\n",
       "      <td>4.0</td>\n",
       "    </tr>\n",
       "    <tr>\n",
       "      <th>Ukraine</th>\n",
       "      <td>237879</td>\n",
       "      <td>5.0</td>\n",
       "    </tr>\n",
       "    <tr>\n",
       "      <th>...</th>\n",
       "      <td>...</td>\n",
       "      <td>...</td>\n",
       "    </tr>\n",
       "    <tr>\n",
       "      <th>Maldives</th>\n",
       "      <td>20</td>\n",
       "      <td>97.0</td>\n",
       "    </tr>\n",
       "    <tr>\n",
       "      <th>Antigua and Barbuda</th>\n",
       "      <td>11</td>\n",
       "      <td>98.0</td>\n",
       "    </tr>\n",
       "    <tr>\n",
       "      <th>San Marino</th>\n",
       "      <td>4</td>\n",
       "      <td>99.0</td>\n",
       "    </tr>\n",
       "    <tr>\n",
       "      <th>Saint Kitts and Nevis</th>\n",
       "      <td>0</td>\n",
       "      <td>100.0</td>\n",
       "    </tr>\n",
       "    <tr>\n",
       "      <th>Dominica</th>\n",
       "      <td>0</td>\n",
       "      <td>100.0</td>\n",
       "    </tr>\n",
       "  </tbody>\n",
       "</table>\n",
       "<p>101 rows × 2 columns</p>\n",
       "</div>"
      ],
      "text/plain": [
       "                       SuicidesNo   rank\n",
       "country                                 \n",
       "Russian Federation         815965    1.0\n",
       "United States              759837    2.0\n",
       "Japan                      635785    3.0\n",
       "France                     240432    4.0\n",
       "Ukraine                    237879    5.0\n",
       "...                           ...    ...\n",
       "Maldives                       20   97.0\n",
       "Antigua and Barbuda            11   98.0\n",
       "San Marino                      4   99.0\n",
       "Saint Kitts and Nevis           0  100.0\n",
       "Dominica                        0  100.0\n",
       "\n",
       "[101 rows x 2 columns]"
      ]
     },
     "execution_count": 1013,
     "metadata": {},
     "output_type": "execute_result"
    }
   ],
   "source": [
    "rank_country = who_data.groupby('country')['SuicidesNo'].sum()\n",
    "rank_country_df = rank_country.to_frame()\n",
    "rank_country_df['rank'] = who_data.groupby('country')['SuicidesNo'].sum().rank(method='min',ascending = False)\n",
    "rank_country_df.sort_values(by = 'rank', ascending = True)"
   ]
  },
  {
   "cell_type": "code",
   "execution_count": 1014,
   "metadata": {},
   "outputs": [
    {
     "data": {
      "text/plain": [
       "3690802620"
      ]
     },
     "execution_count": 1014,
     "metadata": {},
     "output_type": "execute_result"
    }
   ],
   "source": [
    "who_data.groupby('country')['population'].sum()['Russian Federation']"
   ]
  },
  {
   "cell_type": "markdown",
   "metadata": {},
   "source": [
    "### 8. Total number of suicides by continents"
   ]
  },
  {
   "cell_type": "code",
   "execution_count": 1015,
   "metadata": {},
   "outputs": [
    {
     "data": {
      "text/html": [
       "<div>\n",
       "<style scoped>\n",
       "    .dataframe tbody tr th:only-of-type {\n",
       "        vertical-align: middle;\n",
       "    }\n",
       "\n",
       "    .dataframe tbody tr th {\n",
       "        vertical-align: top;\n",
       "    }\n",
       "\n",
       "    .dataframe thead th {\n",
       "        text-align: right;\n",
       "    }\n",
       "</style>\n",
       "<table border=\"1\" class=\"dataframe\">\n",
       "  <thead>\n",
       "    <tr style=\"text-align: right;\">\n",
       "      <th></th>\n",
       "      <th>country</th>\n",
       "      <th>continent</th>\n",
       "    </tr>\n",
       "  </thead>\n",
       "  <tbody>\n",
       "    <tr>\n",
       "      <th>0</th>\n",
       "      <td>Albania</td>\n",
       "      <td>Europe</td>\n",
       "    </tr>\n",
       "    <tr>\n",
       "      <th>1</th>\n",
       "      <td>Antigua and Barbuda</td>\n",
       "      <td>North America</td>\n",
       "    </tr>\n",
       "    <tr>\n",
       "      <th>2</th>\n",
       "      <td>Argentina</td>\n",
       "      <td>South America</td>\n",
       "    </tr>\n",
       "    <tr>\n",
       "      <th>3</th>\n",
       "      <td>Armenia</td>\n",
       "      <td>Asia</td>\n",
       "    </tr>\n",
       "    <tr>\n",
       "      <th>4</th>\n",
       "      <td>Aruba</td>\n",
       "      <td>North America</td>\n",
       "    </tr>\n",
       "  </tbody>\n",
       "</table>\n",
       "</div>"
      ],
      "text/plain": [
       "               country      continent\n",
       "0              Albania         Europe\n",
       "1  Antigua and Barbuda  North America\n",
       "2            Argentina  South America\n",
       "3              Armenia           Asia\n",
       "4                Aruba  North America"
      ]
     },
     "execution_count": 1015,
     "metadata": {},
     "output_type": "execute_result"
    }
   ],
   "source": [
    "cont_coun_data = pd.read_csv(\"continent_mapping.csv\")\n",
    "cont_coun_data.head()"
   ]
  },
  {
   "cell_type": "markdown",
   "metadata": {},
   "source": [
    "The csv file containing the countries and continent mapping is imported and displayed."
   ]
  },
  {
   "cell_type": "markdown",
   "metadata": {},
   "source": [
    "The new dataframes with country as the index is created. This is then joined on the common column i.e. index in this case to merge the data"
   ]
  },
  {
   "cell_type": "code",
   "execution_count": 1016,
   "metadata": {},
   "outputs": [
    {
     "data": {
      "text/html": [
       "<div>\n",
       "<style scoped>\n",
       "    .dataframe tbody tr th:only-of-type {\n",
       "        vertical-align: middle;\n",
       "    }\n",
       "\n",
       "    .dataframe tbody tr th {\n",
       "        vertical-align: top;\n",
       "    }\n",
       "\n",
       "    .dataframe thead th {\n",
       "        text-align: right;\n",
       "    }\n",
       "</style>\n",
       "<table border=\"1\" class=\"dataframe\">\n",
       "  <thead>\n",
       "    <tr style=\"text-align: right;\">\n",
       "      <th></th>\n",
       "      <th>year</th>\n",
       "      <th>sex</th>\n",
       "      <th>age</th>\n",
       "      <th>SuicidesNo</th>\n",
       "      <th>population</th>\n",
       "      <th>HDIForYear</th>\n",
       "      <th>GDPForYearMoney</th>\n",
       "      <th>suicidesper100k</th>\n",
       "      <th>Generation</th>\n",
       "      <th>TotalPopulationYear</th>\n",
       "      <th>GDPperCapita</th>\n",
       "      <th>continent</th>\n",
       "    </tr>\n",
       "    <tr>\n",
       "      <th>country</th>\n",
       "      <th></th>\n",
       "      <th></th>\n",
       "      <th></th>\n",
       "      <th></th>\n",
       "      <th></th>\n",
       "      <th></th>\n",
       "      <th></th>\n",
       "      <th></th>\n",
       "      <th></th>\n",
       "      <th></th>\n",
       "      <th></th>\n",
       "      <th></th>\n",
       "    </tr>\n",
       "  </thead>\n",
       "  <tbody>\n",
       "    <tr>\n",
       "      <th>Albania</th>\n",
       "      <td>1987</td>\n",
       "      <td>male</td>\n",
       "      <td>15-24 years</td>\n",
       "      <td>21</td>\n",
       "      <td>312900</td>\n",
       "      <td>0.000</td>\n",
       "      <td>2156624900</td>\n",
       "      <td>6.71</td>\n",
       "      <td>Generation X</td>\n",
       "      <td>2709600</td>\n",
       "      <td>795.920025</td>\n",
       "      <td>Europe</td>\n",
       "    </tr>\n",
       "    <tr>\n",
       "      <th>Albania</th>\n",
       "      <td>1987</td>\n",
       "      <td>male</td>\n",
       "      <td>35-54 years</td>\n",
       "      <td>16</td>\n",
       "      <td>308000</td>\n",
       "      <td>0.000</td>\n",
       "      <td>2156624900</td>\n",
       "      <td>5.19</td>\n",
       "      <td>Boomers</td>\n",
       "      <td>2709600</td>\n",
       "      <td>795.920025</td>\n",
       "      <td>Europe</td>\n",
       "    </tr>\n",
       "    <tr>\n",
       "      <th>Albania</th>\n",
       "      <td>1987</td>\n",
       "      <td>female</td>\n",
       "      <td>15-24 years</td>\n",
       "      <td>14</td>\n",
       "      <td>289700</td>\n",
       "      <td>0.000</td>\n",
       "      <td>2156624900</td>\n",
       "      <td>4.83</td>\n",
       "      <td>Generation X</td>\n",
       "      <td>2709600</td>\n",
       "      <td>795.920025</td>\n",
       "      <td>Europe</td>\n",
       "    </tr>\n",
       "    <tr>\n",
       "      <th>Albania</th>\n",
       "      <td>1987</td>\n",
       "      <td>male</td>\n",
       "      <td>75+ years</td>\n",
       "      <td>1</td>\n",
       "      <td>21800</td>\n",
       "      <td>0.000</td>\n",
       "      <td>2156624900</td>\n",
       "      <td>4.59</td>\n",
       "      <td>GI Generation</td>\n",
       "      <td>2709600</td>\n",
       "      <td>795.920025</td>\n",
       "      <td>Europe</td>\n",
       "    </tr>\n",
       "    <tr>\n",
       "      <th>Albania</th>\n",
       "      <td>1987</td>\n",
       "      <td>male</td>\n",
       "      <td>25-34 years</td>\n",
       "      <td>9</td>\n",
       "      <td>274300</td>\n",
       "      <td>0.000</td>\n",
       "      <td>2156624900</td>\n",
       "      <td>3.28</td>\n",
       "      <td>Boomers</td>\n",
       "      <td>2709600</td>\n",
       "      <td>795.920025</td>\n",
       "      <td>Europe</td>\n",
       "    </tr>\n",
       "    <tr>\n",
       "      <th>...</th>\n",
       "      <td>...</td>\n",
       "      <td>...</td>\n",
       "      <td>...</td>\n",
       "      <td>...</td>\n",
       "      <td>...</td>\n",
       "      <td>...</td>\n",
       "      <td>...</td>\n",
       "      <td>...</td>\n",
       "      <td>...</td>\n",
       "      <td>...</td>\n",
       "      <td>...</td>\n",
       "      <td>...</td>\n",
       "    </tr>\n",
       "    <tr>\n",
       "      <th>Uzbekistan</th>\n",
       "      <td>2014</td>\n",
       "      <td>female</td>\n",
       "      <td>35-54 years</td>\n",
       "      <td>17</td>\n",
       "      <td>3620833</td>\n",
       "      <td>0.675</td>\n",
       "      <td>63067077179</td>\n",
       "      <td>0.47</td>\n",
       "      <td>Generation X</td>\n",
       "      <td>27313507</td>\n",
       "      <td>2309.006939</td>\n",
       "      <td>Asia</td>\n",
       "    </tr>\n",
       "    <tr>\n",
       "      <th>Uzbekistan</th>\n",
       "      <td>2014</td>\n",
       "      <td>female</td>\n",
       "      <td>75+ years</td>\n",
       "      <td>9</td>\n",
       "      <td>348465</td>\n",
       "      <td>0.675</td>\n",
       "      <td>63067077179</td>\n",
       "      <td>2.58</td>\n",
       "      <td>Silent</td>\n",
       "      <td>27313507</td>\n",
       "      <td>2309.006939</td>\n",
       "      <td>Asia</td>\n",
       "    </tr>\n",
       "    <tr>\n",
       "      <th>Uzbekistan</th>\n",
       "      <td>2014</td>\n",
       "      <td>male</td>\n",
       "      <td>5-14 years</td>\n",
       "      <td>6</td>\n",
       "      <td>2762158</td>\n",
       "      <td>0.675</td>\n",
       "      <td>63067077179</td>\n",
       "      <td>0.22</td>\n",
       "      <td>Generation Z</td>\n",
       "      <td>27313507</td>\n",
       "      <td>2309.006939</td>\n",
       "      <td>Asia</td>\n",
       "    </tr>\n",
       "    <tr>\n",
       "      <th>Uzbekistan</th>\n",
       "      <td>2014</td>\n",
       "      <td>female</td>\n",
       "      <td>5-14 years</td>\n",
       "      <td>44</td>\n",
       "      <td>2631600</td>\n",
       "      <td>0.675</td>\n",
       "      <td>63067077179</td>\n",
       "      <td>1.67</td>\n",
       "      <td>Generation Z</td>\n",
       "      <td>27313507</td>\n",
       "      <td>2309.006939</td>\n",
       "      <td>Asia</td>\n",
       "    </tr>\n",
       "    <tr>\n",
       "      <th>Uzbekistan</th>\n",
       "      <td>2014</td>\n",
       "      <td>female</td>\n",
       "      <td>55-74 years</td>\n",
       "      <td>21</td>\n",
       "      <td>1438935</td>\n",
       "      <td>0.675</td>\n",
       "      <td>63067077179</td>\n",
       "      <td>1.46</td>\n",
       "      <td>Boomers</td>\n",
       "      <td>27313507</td>\n",
       "      <td>2309.006939</td>\n",
       "      <td>Asia</td>\n",
       "    </tr>\n",
       "  </tbody>\n",
       "</table>\n",
       "<p>27820 rows × 12 columns</p>\n",
       "</div>"
      ],
      "text/plain": [
       "            year     sex          age  SuicidesNo  population  HDIForYear  \\\n",
       "country                                                                     \n",
       "Albania     1987    male  15-24 years          21      312900       0.000   \n",
       "Albania     1987    male  35-54 years          16      308000       0.000   \n",
       "Albania     1987  female  15-24 years          14      289700       0.000   \n",
       "Albania     1987    male    75+ years           1       21800       0.000   \n",
       "Albania     1987    male  25-34 years           9      274300       0.000   \n",
       "...          ...     ...          ...         ...         ...         ...   \n",
       "Uzbekistan  2014  female  35-54 years          17     3620833       0.675   \n",
       "Uzbekistan  2014  female    75+ years           9      348465       0.675   \n",
       "Uzbekistan  2014    male   5-14 years           6     2762158       0.675   \n",
       "Uzbekistan  2014  female   5-14 years          44     2631600       0.675   \n",
       "Uzbekistan  2014  female  55-74 years          21     1438935       0.675   \n",
       "\n",
       "            GDPForYearMoney  suicidesper100k     Generation  \\\n",
       "country                                                       \n",
       "Albania          2156624900             6.71   Generation X   \n",
       "Albania          2156624900             5.19        Boomers   \n",
       "Albania          2156624900             4.83   Generation X   \n",
       "Albania          2156624900             4.59  GI Generation   \n",
       "Albania          2156624900             3.28        Boomers   \n",
       "...                     ...              ...            ...   \n",
       "Uzbekistan      63067077179             0.47   Generation X   \n",
       "Uzbekistan      63067077179             2.58         Silent   \n",
       "Uzbekistan      63067077179             0.22   Generation Z   \n",
       "Uzbekistan      63067077179             1.67   Generation Z   \n",
       "Uzbekistan      63067077179             1.46        Boomers   \n",
       "\n",
       "            TotalPopulationYear  GDPperCapita continent  \n",
       "country                                                  \n",
       "Albania                 2709600    795.920025    Europe  \n",
       "Albania                 2709600    795.920025    Europe  \n",
       "Albania                 2709600    795.920025    Europe  \n",
       "Albania                 2709600    795.920025    Europe  \n",
       "Albania                 2709600    795.920025    Europe  \n",
       "...                         ...           ...       ...  \n",
       "Uzbekistan             27313507   2309.006939      Asia  \n",
       "Uzbekistan             27313507   2309.006939      Asia  \n",
       "Uzbekistan             27313507   2309.006939      Asia  \n",
       "Uzbekistan             27313507   2309.006939      Asia  \n",
       "Uzbekistan             27313507   2309.006939      Asia  \n",
       "\n",
       "[27820 rows x 12 columns]"
      ]
     },
     "execution_count": 1016,
     "metadata": {},
     "output_type": "execute_result"
    }
   ],
   "source": [
    "who1 = who_data.set_index(['country'])\n",
    "con1 = cont_coun_data.set_index(['country'])\n",
    "who1 = who1.join(con1,on='country')\n",
    "who1"
   ]
  },
  {
   "cell_type": "markdown",
   "metadata": {},
   "source": [
    "Then groupby method to group the dataframe by continent and calculate the total sum."
   ]
  },
  {
   "cell_type": "code",
   "execution_count": 1017,
   "metadata": {},
   "outputs": [
    {
     "data": {
      "text/html": [
       "<div>\n",
       "<style scoped>\n",
       "    .dataframe tbody tr th:only-of-type {\n",
       "        vertical-align: middle;\n",
       "    }\n",
       "\n",
       "    .dataframe tbody tr th {\n",
       "        vertical-align: top;\n",
       "    }\n",
       "\n",
       "    .dataframe thead th {\n",
       "        text-align: right;\n",
       "    }\n",
       "</style>\n",
       "<table border=\"1\" class=\"dataframe\">\n",
       "  <thead>\n",
       "    <tr style=\"text-align: right;\">\n",
       "      <th></th>\n",
       "      <th>SuicidesNo</th>\n",
       "    </tr>\n",
       "    <tr>\n",
       "      <th>continent</th>\n",
       "      <th></th>\n",
       "    </tr>\n",
       "  </thead>\n",
       "  <tbody>\n",
       "    <tr>\n",
       "      <th>Europe</th>\n",
       "      <td>2539713</td>\n",
       "    </tr>\n",
       "    <tr>\n",
       "      <th>Asia</th>\n",
       "      <td>1149851</td>\n",
       "    </tr>\n",
       "    <tr>\n",
       "      <th>North America</th>\n",
       "      <td>1004543</td>\n",
       "    </tr>\n",
       "    <tr>\n",
       "      <th>South America</th>\n",
       "      <td>352984</td>\n",
       "    </tr>\n",
       "    <tr>\n",
       "      <th>Oceania</th>\n",
       "      <td>71792</td>\n",
       "    </tr>\n",
       "    <tr>\n",
       "      <th>Africa</th>\n",
       "      <td>10086</td>\n",
       "    </tr>\n",
       "  </tbody>\n",
       "</table>\n",
       "</div>"
      ],
      "text/plain": [
       "               SuicidesNo\n",
       "continent                \n",
       "Europe            2539713\n",
       "Asia              1149851\n",
       "North America     1004543\n",
       "South America      352984\n",
       "Oceania             71792\n",
       "Africa              10086"
      ]
     },
     "execution_count": 1017,
     "metadata": {},
     "output_type": "execute_result"
    }
   ],
   "source": [
    "who1.groupby('continent')['SuicidesNo'].sum().sort_values(ascending=False).to_frame()"
   ]
  },
  {
   "cell_type": "markdown",
   "metadata": {},
   "source": [
    "### 9. Correlation between suicides, GDP per capita and population"
   ]
  },
  {
   "cell_type": "markdown",
   "metadata": {},
   "source": [
    "Use the Pearsons correlation matrix to find how strongly different variables are correlated"
   ]
  },
  {
   "cell_type": "code",
   "execution_count": 1018,
   "metadata": {},
   "outputs": [
    {
     "data": {
      "text/html": [
       "<div>\n",
       "<style scoped>\n",
       "    .dataframe tbody tr th:only-of-type {\n",
       "        vertical-align: middle;\n",
       "    }\n",
       "\n",
       "    .dataframe tbody tr th {\n",
       "        vertical-align: top;\n",
       "    }\n",
       "\n",
       "    .dataframe thead th {\n",
       "        text-align: right;\n",
       "    }\n",
       "</style>\n",
       "<table border=\"1\" class=\"dataframe\">\n",
       "  <thead>\n",
       "    <tr style=\"text-align: right;\">\n",
       "      <th></th>\n",
       "      <th>SuicidesNo</th>\n",
       "      <th>population</th>\n",
       "      <th>GDPperCapita</th>\n",
       "    </tr>\n",
       "  </thead>\n",
       "  <tbody>\n",
       "    <tr>\n",
       "      <th>SuicidesNo</th>\n",
       "      <td>1.000000</td>\n",
       "      <td>0.546153</td>\n",
       "      <td>0.060601</td>\n",
       "    </tr>\n",
       "    <tr>\n",
       "      <th>population</th>\n",
       "      <td>0.546153</td>\n",
       "      <td>1.000000</td>\n",
       "      <td>0.081049</td>\n",
       "    </tr>\n",
       "    <tr>\n",
       "      <th>GDPperCapita</th>\n",
       "      <td>0.060601</td>\n",
       "      <td>0.081049</td>\n",
       "      <td>1.000000</td>\n",
       "    </tr>\n",
       "  </tbody>\n",
       "</table>\n",
       "</div>"
      ],
      "text/plain": [
       "              SuicidesNo  population  GDPperCapita\n",
       "SuicidesNo      1.000000    0.546153      0.060601\n",
       "population      0.546153    1.000000      0.081049\n",
       "GDPperCapita    0.060601    0.081049      1.000000"
      ]
     },
     "execution_count": 1018,
     "metadata": {},
     "output_type": "execute_result"
    }
   ],
   "source": [
    "who_data_df = who_data[['SuicidesNo','population','GDPperCapita']]\n",
    "who_data_df.corr()"
   ]
  },
  {
   "cell_type": "markdown",
   "metadata": {},
   "source": [
    "The number of suicides and population show a weak positive relationship (0.55). Let's say the percentage of individuals feeling suicidal is approximately the same in a given amount of population (i.e. suicide rate is the same). Then, as the population increases, it is likely that number of suicides increases as well. \n",
    "\n",
    "The number of suicides and GDP per capita show no linear relationship between them (0.06) i.e. indicates that they’re basically not correlated. This implies that the suicides are just related to the economic status of the individuals.\n",
    "\n",
    "It also shows that population and GDPperCapita are not correlated as expected i.e. highly populous countries are not meant have high/low GDPperCapita  "
   ]
  },
  {
   "cell_type": "markdown",
   "metadata": {},
   "source": [
    "### 10. Visualize Total suicides over the years"
   ]
  },
  {
   "cell_type": "markdown",
   "metadata": {},
   "source": [
    "Data is first grouped by 'year' to calculate the total number of suicides in each year across the countries in the dataset"
   ]
  },
  {
   "cell_type": "markdown",
   "metadata": {},
   "source": [
    "Then, x and y datapoints are taken from the above-obtained Series which is then used to plot using the matplotlib"
   ]
  },
  {
   "cell_type": "code",
   "execution_count": 1019,
   "metadata": {},
   "outputs": [
    {
     "data": {
      "image/png": "[encoded data removed]",
      "text/plain": [
       "<Figure size 800x500 with 1 Axes>"
      ]
     },
     "metadata": {},
     "output_type": "display_data"
    }
   ],
   "source": [
    "data = who_data.groupby('year')['SuicidesNo'].sum().reset_index()\n",
    "\n",
    "x_data = data['year']\n",
    "y_data = data['SuicidesNo']\n",
    "\n",
    "# Resize your Graph\n",
    "plt.figure(figsize=(8,5), dpi=100)\n",
    "\n",
    "# Plot \n",
    "plt.plot(x_data,y_data, 'b^--', label='No of Suicides')\n",
    "\n",
    "\n",
    "# Add a title\n",
    "plt.title('Total Suicides over Years')\n",
    "\n",
    "# X and Y labels\n",
    "plt.xlabel('Year')\n",
    "plt.ylabel('No of Suicides')\n",
    "\n",
    "# X Tickmarks (scale of your graph)\n",
    "plt.xticks(data.year[::3].tolist())\n",
    "\n",
    "plt.show()"
   ]
  },
  {
   "cell_type": "markdown",
   "metadata": {},
   "source": [
    "Conclusions: No of suicides has remained constant over the years\n",
    "\n",
    "Note:\n",
    "The disprecancies at both ends (1985 - 1993) and (2015-2016) is mainly because doesnt have the same number of data points as the other years. This is shown in the plot below. They follow a similar trend"
   ]
  },
  {
   "cell_type": "code",
   "execution_count": 1020,
   "metadata": {},
   "outputs": [
    {
     "data": {
      "image/png": "[encoded data removed]",
      "text/plain": [
       "<Figure size 800x500 with 1 Axes>"
      ]
     },
     "metadata": {},
     "output_type": "display_data"
    }
   ],
   "source": [
    "data_year = who_data['year'].value_counts().sort_index().to_frame().reset_index().rename(columns = {'index':'year','year':'NoOfDatapoints'})\n",
    "\n",
    "x_g = data_year['year']\n",
    "y_g = data_year['NoOfDatapoints']\n",
    "\n",
    "# Resize your Graph\n",
    "plt.figure(figsize=(8,5), dpi=100)\n",
    "\n",
    "# Plot \n",
    "plt.plot(x_g,y_g, 'b^--')\n",
    "\n",
    "\n",
    "# Add a title\n",
    "plt.title('No of Datapoints in Each Year')\n",
    "\n",
    "# X and Y labels\n",
    "plt.xlabel('Year')\n",
    "plt.ylabel('No of Datapoints')\n",
    "\n",
    "# X Tickmarks (scale of your graph)\n",
    "plt.xticks(data.year[::3].tolist())\n",
    "\n",
    "plt.show()"
   ]
  },
  {
   "cell_type": "markdown",
   "metadata": {},
   "source": [
    "### 11. Suicides by Gender over the years"
   ]
  },
  {
   "cell_type": "markdown",
   "metadata": {},
   "source": [
    "Unstacking is done to move the innermost row index to become the innermost column index. In this case, year is unstacked to give us a list of columns of years"
   ]
  },
  {
   "cell_type": "code",
   "execution_count": 1021,
   "metadata": {},
   "outputs": [
    {
     "data": {
      "text/html": [
       "<div>\n",
       "<style scoped>\n",
       "    .dataframe tbody tr th:only-of-type {\n",
       "        vertical-align: middle;\n",
       "    }\n",
       "\n",
       "    .dataframe tbody tr th {\n",
       "        vertical-align: top;\n",
       "    }\n",
       "\n",
       "    .dataframe thead th {\n",
       "        text-align: right;\n",
       "    }\n",
       "</style>\n",
       "<table border=\"1\" class=\"dataframe\">\n",
       "  <thead>\n",
       "    <tr style=\"text-align: right;\">\n",
       "      <th>year</th>\n",
       "      <th>1985</th>\n",
       "      <th>1986</th>\n",
       "      <th>1987</th>\n",
       "      <th>1988</th>\n",
       "      <th>1989</th>\n",
       "      <th>1990</th>\n",
       "      <th>1991</th>\n",
       "      <th>1992</th>\n",
       "      <th>1993</th>\n",
       "      <th>1994</th>\n",
       "      <th>...</th>\n",
       "      <th>2007</th>\n",
       "      <th>2008</th>\n",
       "      <th>2009</th>\n",
       "      <th>2010</th>\n",
       "      <th>2011</th>\n",
       "      <th>2012</th>\n",
       "      <th>2013</th>\n",
       "      <th>2014</th>\n",
       "      <th>2015</th>\n",
       "      <th>2016</th>\n",
       "    </tr>\n",
       "    <tr>\n",
       "      <th>sex</th>\n",
       "      <th></th>\n",
       "      <th></th>\n",
       "      <th></th>\n",
       "      <th></th>\n",
       "      <th></th>\n",
       "      <th></th>\n",
       "      <th></th>\n",
       "      <th></th>\n",
       "      <th></th>\n",
       "      <th></th>\n",
       "      <th></th>\n",
       "      <th></th>\n",
       "      <th></th>\n",
       "      <th></th>\n",
       "      <th></th>\n",
       "      <th></th>\n",
       "      <th></th>\n",
       "      <th></th>\n",
       "      <th></th>\n",
       "      <th></th>\n",
       "      <th></th>\n",
       "    </tr>\n",
       "  </thead>\n",
       "  <tbody>\n",
       "    <tr>\n",
       "      <th>female</th>\n",
       "      <td>27115</td>\n",
       "      <td>27606</td>\n",
       "      <td>28454</td>\n",
       "      <td>24807</td>\n",
       "      <td>32757</td>\n",
       "      <td>35529</td>\n",
       "      <td>40109</td>\n",
       "      <td>41820</td>\n",
       "      <td>44239</td>\n",
       "      <td>44539</td>\n",
       "      <td>...</td>\n",
       "      <td>41147</td>\n",
       "      <td>42885</td>\n",
       "      <td>40439</td>\n",
       "      <td>32469</td>\n",
       "      <td>45049</td>\n",
       "      <td>46918</td>\n",
       "      <td>41073</td>\n",
       "      <td>40756</td>\n",
       "      <td>31012</td>\n",
       "      <td>3009</td>\n",
       "    </tr>\n",
       "    <tr>\n",
       "      <th>male</th>\n",
       "      <td>61894</td>\n",
       "      <td>59935</td>\n",
       "      <td>72648</td>\n",
       "      <td>69876</td>\n",
       "      <td>87572</td>\n",
       "      <td>95804</td>\n",
       "      <td>119049</td>\n",
       "      <td>118668</td>\n",
       "      <td>122300</td>\n",
       "      <td>155259</td>\n",
       "      <td>...</td>\n",
       "      <td>128541</td>\n",
       "      <td>149722</td>\n",
       "      <td>160343</td>\n",
       "      <td>146842</td>\n",
       "      <td>152789</td>\n",
       "      <td>134039</td>\n",
       "      <td>131411</td>\n",
       "      <td>121478</td>\n",
       "      <td>126305</td>\n",
       "      <td>10785</td>\n",
       "    </tr>\n",
       "  </tbody>\n",
       "</table>\n",
       "<p>2 rows × 32 columns</p>\n",
       "</div>"
      ],
      "text/plain": [
       "year     1985   1986   1987   1988   1989   1990    1991    1992    1993  \\\n",
       "sex                                                                        \n",
       "female  27115  27606  28454  24807  32757  35529   40109   41820   44239   \n",
       "male    61894  59935  72648  69876  87572  95804  119049  118668  122300   \n",
       "\n",
       "year      1994  ...    2007    2008    2009    2010    2011    2012    2013  \\\n",
       "sex             ...                                                           \n",
       "female   44539  ...   41147   42885   40439   32469   45049   46918   41073   \n",
       "male    155259  ...  128541  149722  160343  146842  152789  134039  131411   \n",
       "\n",
       "year      2014    2015   2016  \n",
       "sex                            \n",
       "female   40756   31012   3009  \n",
       "male    121478  126305  10785  \n",
       "\n",
       "[2 rows x 32 columns]"
      ]
     },
     "execution_count": 1021,
     "metadata": {},
     "output_type": "execute_result"
    }
   ],
   "source": [
    "group_data = who_data.groupby(['sex','year'])['SuicidesNo'].sum().unstack()\n",
    "group_data"
   ]
  },
  {
   "cell_type": "code",
   "execution_count": 1022,
   "metadata": {},
   "outputs": [],
   "source": [
    "female_data = group_data.loc['female',:].reset_index().female\n",
    "male_data   = group_data.loc['male',:].reset_index().male\n",
    "year        = group_data.loc['male',:].reset_index().year"
   ]
  },
  {
   "cell_type": "markdown",
   "metadata": {},
   "source": [
    "Two subplots are made:\n",
    "\n",
    "    -  First shows the Total number of suicides over the years 1985-2016\n",
    "    -  Second shows the split on percentage of total deaths based on gender"
   ]
  },
  {
   "cell_type": "code",
   "execution_count": 1023,
   "metadata": {},
   "outputs": [
    {
     "data": {
      "image/png": "[encoded data removed]",
      "text/plain": [
       "<Figure size 2000x1500 with 2 Axes>"
      ]
     },
     "metadata": {},
     "output_type": "display_data"
    }
   ],
   "source": [
    "x_data = data['year']\n",
    "y_data = data['SuicidesNo']\n",
    "\n",
    "# Resize your Graph\n",
    "# plt.figure(figsize=(8,5), dpi=100)\n",
    "fig = plt.figure(figsize=(20,15), dpi=100)\n",
    "\n",
    "#Add Global Title to the subplots\n",
    "fig.suptitle(\"Gender Analysis\", fontsize=20)\n",
    "\n",
    "# Plot ax1 - Trend lines for Gender Analysis\n",
    "ax1 = fig.add_subplot(2,2,1)\n",
    "ax1.plot(year, male_data, 'b.-', label='male')\n",
    "ax1.plot(year, female_data, 'r.-', label='female')\n",
    "\n",
    "\n",
    "# Add a title\n",
    "ax1.set_title('Suicides by Gender over Years')\n",
    "\n",
    "# X and Y labels\n",
    "ax1.set_xlabel('Year')\n",
    "ax1.set_ylabel('Number of Suicides')\n",
    "\n",
    "# X Tickmarks (scale of your graph)\n",
    "ax1.set_xticks(data.year[::3].tolist())\n",
    "\n",
    "ax1.legend()\n",
    "\n",
    "# Plot ax2 -> Pie Chart \n",
    "ax2 = fig.add_subplot(2,2,2)\n",
    "labels = ['Female', 'Male']\n",
    "colors = ['lightskyblue', 'red'] \n",
    "ax2.pie(who_data.groupby('sex')['SuicidesNo'].sum(), labels = labels, colors=colors, autopct='%1.1f %%')\n",
    "ax2.set_title('Total Number of Suicides')\n",
    "\n",
    "plt.show()"
   ]
  },
  {
   "cell_type": "markdown",
   "metadata": {},
   "source": [
    "Conclusions:\n",
    "\n",
    "1. No of male suicides(76.2%) is greater the female suicides(23.8%) even though the number of females recorded in the dataset is more 1 billion than number of males. This implies the males are more prone to suicide than females\n",
    "2. No of Male suicides and female suicides follow a similar trend\n"
   ]
  },
  {
   "cell_type": "code",
   "execution_count": 1024,
   "metadata": {},
   "outputs": [
    {
     "data": {
      "text/plain": [
       "1223405278"
      ]
     },
     "execution_count": 1024,
     "metadata": {},
     "output_type": "execute_result"
    }
   ],
   "source": [
    "# Difference between number of males and females\n",
    "who_data.groupby('sex')['population'].sum()['female'] - who_data.groupby('sex')['population'].sum()['male']"
   ]
  },
  {
   "cell_type": "code",
   "execution_count": 1025,
   "metadata": {},
   "outputs": [],
   "source": [
    "# who_data.groupby('year')['GDPperCapita'].mean().plot()\n",
    "# who_data.groupby('year')['HDIForYear'].mean().plot()"
   ]
  },
  {
   "cell_type": "markdown",
   "metadata": {},
   "source": [
    "### 11. Suicides on Generations and Age Groups"
   ]
  },
  {
   "cell_type": "code",
   "execution_count": 1026,
   "metadata": {},
   "outputs": [
    {
     "data": {
      "text/html": [
       "<div>\n",
       "<style scoped>\n",
       "    .dataframe tbody tr th:only-of-type {\n",
       "        vertical-align: middle;\n",
       "    }\n",
       "\n",
       "    .dataframe tbody tr th {\n",
       "        vertical-align: top;\n",
       "    }\n",
       "\n",
       "    .dataframe thead th {\n",
       "        text-align: right;\n",
       "    }\n",
       "</style>\n",
       "<table border=\"1\" class=\"dataframe\">\n",
       "  <thead>\n",
       "    <tr style=\"text-align: right;\">\n",
       "      <th></th>\n",
       "      <th>SuicidesNo</th>\n",
       "    </tr>\n",
       "    <tr>\n",
       "      <th>Generation</th>\n",
       "      <th></th>\n",
       "    </tr>\n",
       "  </thead>\n",
       "  <tbody>\n",
       "    <tr>\n",
       "      <th>GI Generation</th>\n",
       "      <td>289285</td>\n",
       "    </tr>\n",
       "    <tr>\n",
       "      <th>Silent</th>\n",
       "      <td>810826</td>\n",
       "    </tr>\n",
       "    <tr>\n",
       "      <th>Boomers</th>\n",
       "      <td>1526080</td>\n",
       "    </tr>\n",
       "    <tr>\n",
       "      <th>Generation X</th>\n",
       "      <td>1715219</td>\n",
       "    </tr>\n",
       "    <tr>\n",
       "      <th>Millenials</th>\n",
       "      <td>663775</td>\n",
       "    </tr>\n",
       "    <tr>\n",
       "      <th>Generation Z</th>\n",
       "      <td>123784</td>\n",
       "    </tr>\n",
       "  </tbody>\n",
       "</table>\n",
       "</div>"
      ],
      "text/plain": [
       "               SuicidesNo\n",
       "Generation               \n",
       "GI Generation      289285\n",
       "Silent             810826\n",
       "Boomers           1526080\n",
       "Generation X      1715219\n",
       "Millenials         663775\n",
       "Generation Z       123784"
      ]
     },
     "execution_count": 1026,
     "metadata": {},
     "output_type": "execute_result"
    }
   ],
   "source": [
    "gen_data = who_data.groupby(['Generation'])['SuicidesNo'].sum().to_frame()\n",
    "gen_data= gen_data.reindex(['GI Generation','Silent','Boomers', 'Generation X','Millenials', 'Generation Z' ])\n",
    "gen_data"
   ]
  },
  {
   "cell_type": "markdown",
   "metadata": {},
   "source": [
    "'reindex' is used to reintialize the index to based on the order given. In this case, the order chosen is from oldest to the youngest generation"
   ]
  },
  {
   "cell_type": "code",
   "execution_count": 1027,
   "metadata": {},
   "outputs": [
    {
     "data": {
      "image/png": "[encoded data removed]",
      "text/plain": [
       "<Figure size 1440x1080 with 2 Axes>"
      ]
     },
     "metadata": {},
     "output_type": "display_data"
    }
   ],
   "source": [
    "# Plotting Pie Chart\n",
    "# values = who_data.groupby(['Generation'])['SuicidesNo'].sum()\n",
    "values = gen_data.SuicidesNo\n",
    "fig = plt.figure(figsize=(20,15))\n",
    "\n",
    "fig.suptitle(\"Generation Analysis\", fontsize=20)\n",
    "\n",
    "# ax1 - pie plot\n",
    "\n",
    "ax1 = fig.add_subplot(2,2,1)\n",
    "\n",
    "labels = ['GI Generation', 'Silent','Boomers', 'Generation X', 'Generation Z', 'Millenials']\n",
    "colors = ['lightskyblue', 'red', 'lightgreen', 'green', 'gold','orange'] \n",
    "\n",
    "ax1.pie(values, labels = labels, colors=colors, autopct='%1.1f %%',explode=[0.2,0.2,0.2,0.2,0.2,0.2])\n",
    "\n",
    "# ax2 - bar plot\n",
    "\n",
    "ax2 = fig.add_subplot(2,2,2)\n",
    "\n",
    "ax2.bar(labels, values)\n",
    "\n",
    "ax2.set_ylabel('Population in millions')\n",
    "\n",
    "plt.show()"
   ]
  },
  {
   "cell_type": "markdown",
   "metadata": {},
   "source": [
    "Conclusion:\n",
    "\n",
    "1. Generation X has the most suicides (33.4% of the total suicides) amongst all the generations \n",
    "2. Generation Z has the least (2.4 % of the total suicides) amongst all the generations\n",
    "\n",
    "But this doesn't tell us which generation is the most/least prone to suicide. Suicides per 100k of the population is a better indicator as it shows the number of suicides in every 100,000 individuals belonging to that population group. Mean of this variable will help us find the generation most/least prone to suicide\n",
    "\n",
    "The same computation is done to plot the Mean Suicides per 100k for different generations in a bar graph"
   ]
  },
  {
   "cell_type": "code",
   "execution_count": 1028,
   "metadata": {},
   "outputs": [
    {
     "data": {
      "text/html": [
       "<div>\n",
       "<style scoped>\n",
       "    .dataframe tbody tr th:only-of-type {\n",
       "        vertical-align: middle;\n",
       "    }\n",
       "\n",
       "    .dataframe tbody tr th {\n",
       "        vertical-align: top;\n",
       "    }\n",
       "\n",
       "    .dataframe thead th {\n",
       "        text-align: right;\n",
       "    }\n",
       "</style>\n",
       "<table border=\"1\" class=\"dataframe\">\n",
       "  <thead>\n",
       "    <tr style=\"text-align: right;\">\n",
       "      <th></th>\n",
       "      <th>suicidesper100k</th>\n",
       "    </tr>\n",
       "    <tr>\n",
       "      <th>Generation</th>\n",
       "      <th></th>\n",
       "    </tr>\n",
       "  </thead>\n",
       "  <tbody>\n",
       "    <tr>\n",
       "      <th>GI Generation</th>\n",
       "      <td>22.951003</td>\n",
       "    </tr>\n",
       "    <tr>\n",
       "      <th>Silent</th>\n",
       "      <td>16.375431</td>\n",
       "    </tr>\n",
       "    <tr>\n",
       "      <th>Boomers</th>\n",
       "      <td>12.508313</td>\n",
       "    </tr>\n",
       "    <tr>\n",
       "      <th>Generation X</th>\n",
       "      <td>10.628623</td>\n",
       "    </tr>\n",
       "    <tr>\n",
       "      <th>Millenials</th>\n",
       "      <td>5.838143</td>\n",
       "    </tr>\n",
       "    <tr>\n",
       "      <th>Generation Z</th>\n",
       "      <td>2.191484</td>\n",
       "    </tr>\n",
       "  </tbody>\n",
       "</table>\n",
       "</div>"
      ],
      "text/plain": [
       "               suicidesper100k\n",
       "Generation                    \n",
       "GI Generation        22.951003\n",
       "Silent               16.375431\n",
       "Boomers              12.508313\n",
       "Generation X         10.628623\n",
       "Millenials            5.838143\n",
       "Generation Z          2.191484"
      ]
     },
     "execution_count": 1028,
     "metadata": {},
     "output_type": "execute_result"
    }
   ],
   "source": [
    "# Calculating Mean Suicides per 100k for every generation\n",
    "\n",
    "gen_suip100_data = who_data.groupby(['Generation'])['suicidesper100k'].mean().to_frame()\n",
    "gen_suip100_data = gen_suip100_data.reindex(['GI Generation','Silent','Boomers', 'Generation X', 'Millenials','Generation Z'])\n",
    "gen_suip100_data"
   ]
  },
  {
   "cell_type": "code",
   "execution_count": 1029,
   "metadata": {},
   "outputs": [
    {
     "data": {
      "image/png": "[encoded data removed]",
      "text/plain": [
       "<Figure size 576x396 with 1 Axes>"
      ]
     },
     "metadata": {},
     "output_type": "display_data"
    }
   ],
   "source": [
    "#Plotting the Mean\n",
    "\n",
    "values = gen_suip100_data['suicidesper100k']\n",
    "\n",
    "plt.bar(labels, values)\n",
    "plt.title('Generation: Suicides Per 100k ')\n",
    "plt.xlabel('Generation')\n",
    "plt.ylabel('Suicides Per 100k')\n",
    "plt.show()\n"
   ]
  },
  {
   "cell_type": "markdown",
   "metadata": {},
   "source": [
    "Conclusion: GI Generation are the most prone to suicide whereas the Millenials are the least prone. The decreasing trend observed in the number of suicides from GI Generation to Millenials can't be explained with the given variables."
   ]
  },
  {
   "cell_type": "markdown",
   "metadata": {},
   "source": [
    "#### Age Groups"
   ]
  },
  {
   "cell_type": "code",
   "execution_count": 1030,
   "metadata": {},
   "outputs": [
    {
     "data": {
      "text/plain": [
       "age\n",
       "5-14 years       46090\n",
       "15-24 years     642033\n",
       "25-34 years     879247\n",
       "35-54 years    1779445\n",
       "55-74 years    1245424\n",
       "75+ years       536730\n",
       "Name: SuicidesNo, dtype: int64"
      ]
     },
     "execution_count": 1030,
     "metadata": {},
     "output_type": "execute_result"
    }
   ],
   "source": [
    "# Calculating Age Groups per 100k for every generation\n",
    "age_data = who_data.groupby(['age'])['SuicidesNo'].sum().sort_index()\n",
    "age_data = age_data.reindex(['5-14 years','15-24 years','25-34 years','35-54 years','55-74 years','75+ years'])\n",
    "age_data"
   ]
  },
  {
   "cell_type": "code",
   "execution_count": 1031,
   "metadata": {},
   "outputs": [
    {
     "data": {
      "image/png": "[encoded data removed]",
      "text/plain": [
       "<Figure size 1440x1080 with 2 Axes>"
      ]
     },
     "metadata": {},
     "output_type": "display_data"
    }
   ],
   "source": [
    "# Plotting Pie Chart\n",
    "# values = who_data.groupby(['age'])['SuicidesNo'].sum()\n",
    "values = age_data\n",
    "fig = plt.figure(figsize=(20,15))\n",
    "\n",
    "fig.suptitle(\"Age Group Analysis\", fontsize=20)\n",
    "\n",
    "# plt.style.use('seaborn')\n",
    "\n",
    "# fig1, ax1 = plt.subplots()\n",
    "# fig2, ax2 = plt.subplots()\n",
    "\n",
    "# ax1 - pie plot\n",
    "\n",
    "ax1 = fig.add_subplot(2,2,1)\n",
    "\n",
    "labels = ['5-14 years','15-24 years','25-34 years','35-54 years','55-74 years','75+ years']\n",
    "# colors = ['#abcdef', '#aabbcc']\n",
    "\n",
    "ax1.pie(values, labels = labels, colors=colors, autopct='%1.1f %%',explode=[0.2,0.2,0.2,0.2,0.2,0.2])\n",
    "\n",
    "# ax1.set_title('Generation Count')\n",
    "\n",
    "\n",
    "# ax2 - bar plot\n",
    "\n",
    "ax2 = fig.add_subplot(2,2,2)\n",
    "ax2.bar(labels, values)\n",
    "\n",
    "ax2.set_ylabel('Population in millions')\n",
    "\n",
    "st.set_y(0.95)\n",
    "\n",
    "plt.show()"
   ]
  },
  {
   "cell_type": "markdown",
   "metadata": {},
   "source": [
    "Conclusion:\n",
    "\n",
    "1. 35-54 years age group has the most suicides (34.7% of the total suicides) amongst all the age groups \n",
    "2. 5-14 years age group  has the least (0.9 % of the total suicides) amongst all the age groups \n",
    "\n",
    "But this doesn't tell us which age groups is the most/least prone to suicide. Suicides per 100k of the population is a better indicator as it shows the number of suicides in every 100,000 individuals belonging to that age group. Mean of this variable will help us find the generation most/least prone to suicide\n",
    "\n",
    "The same computation is done to plot the Suicides per 100k for different age groups in a bar graph"
   ]
  },
  {
   "cell_type": "code",
   "execution_count": 1032,
   "metadata": {},
   "outputs": [
    {
     "data": {
      "text/html": [
       "<div>\n",
       "<style scoped>\n",
       "    .dataframe tbody tr th:only-of-type {\n",
       "        vertical-align: middle;\n",
       "    }\n",
       "\n",
       "    .dataframe tbody tr th {\n",
       "        vertical-align: top;\n",
       "    }\n",
       "\n",
       "    .dataframe thead th {\n",
       "        text-align: right;\n",
       "    }\n",
       "</style>\n",
       "<table border=\"1\" class=\"dataframe\">\n",
       "  <thead>\n",
       "    <tr style=\"text-align: right;\">\n",
       "      <th></th>\n",
       "      <th>suicidesper100k</th>\n",
       "    </tr>\n",
       "    <tr>\n",
       "      <th>age</th>\n",
       "      <th></th>\n",
       "    </tr>\n",
       "  </thead>\n",
       "  <tbody>\n",
       "    <tr>\n",
       "      <th>5-14 years</th>\n",
       "      <td>0.589781</td>\n",
       "    </tr>\n",
       "    <tr>\n",
       "      <th>15-24 years</th>\n",
       "      <td>7.614860</td>\n",
       "    </tr>\n",
       "    <tr>\n",
       "      <th>25-34 years</th>\n",
       "      <td>10.285327</td>\n",
       "    </tr>\n",
       "    <tr>\n",
       "      <th>35-54 years</th>\n",
       "      <td>12.385002</td>\n",
       "    </tr>\n",
       "    <tr>\n",
       "      <th>55-74 years</th>\n",
       "      <td>13.515366</td>\n",
       "    </tr>\n",
       "    <tr>\n",
       "      <th>75+ years</th>\n",
       "      <td>20.727527</td>\n",
       "    </tr>\n",
       "  </tbody>\n",
       "</table>\n",
       "</div>"
      ],
      "text/plain": [
       "             suicidesper100k\n",
       "age                         \n",
       "5-14 years          0.589781\n",
       "15-24 years         7.614860\n",
       "25-34 years        10.285327\n",
       "35-54 years        12.385002\n",
       "55-74 years        13.515366\n",
       "75+ years          20.727527"
      ]
     },
     "execution_count": 1032,
     "metadata": {},
     "output_type": "execute_result"
    }
   ],
   "source": [
    "# Calculating Mean Suicides per 100k for every age group\n",
    "\n",
    "age_suip100_data = who_data.groupby(['age'])['suicidesper100k'].mean().to_frame()\n",
    "age_suip100_data = age_suip100_data.reindex(['5-14 years','15-24 years','25-34 years','35-54 years','55-74 years','75+ years'])\n",
    "age_suip100_data"
   ]
  },
  {
   "cell_type": "code",
   "execution_count": 1033,
   "metadata": {},
   "outputs": [
    {
     "data": {
      "image/png": "[encoded data removed]",
      "text/plain": [
       "<Figure size 576x396 with 1 Axes>"
      ]
     },
     "metadata": {},
     "output_type": "display_data"
    }
   ],
   "source": [
    "# Plotting Mean Suicide \n",
    "\n",
    "values = age_suip100_data['suicidesper100k']\n",
    "\n",
    "plt.bar(labels, values)\n",
    "plt.title('Age Group: Mean Suicides Per 100k ')\n",
    "plt.xlabel('Age Group')\n",
    "plt.ylabel('Suicides Per 100k')\n",
    "plt.show()"
   ]
  },
  {
   "cell_type": "markdown",
   "metadata": {},
   "source": [
    "The trend followed in the above plot for age group is consistent with generation's\n",
    "\n",
    "The reason behind the peaks for 'Generation X' and '35-54 years' in the above plots  is because that's the most predominant population group in the countries listed in the dataset. The results which shows the population for every age group and generation highlight this fact"
   ]
  },
  {
   "cell_type": "code",
   "execution_count": 1034,
   "metadata": {},
   "outputs": [
    {
     "data": {
      "text/html": [
       "<div>\n",
       "<style scoped>\n",
       "    .dataframe tbody tr th:only-of-type {\n",
       "        vertical-align: middle;\n",
       "    }\n",
       "\n",
       "    .dataframe tbody tr th {\n",
       "        vertical-align: top;\n",
       "    }\n",
       "\n",
       "    .dataframe thead th {\n",
       "        text-align: right;\n",
       "    }\n",
       "</style>\n",
       "<table border=\"1\" class=\"dataframe\">\n",
       "  <thead>\n",
       "    <tr style=\"text-align: right;\">\n",
       "      <th></th>\n",
       "      <th>PopulationIn100k</th>\n",
       "    </tr>\n",
       "    <tr>\n",
       "      <th>age</th>\n",
       "      <th></th>\n",
       "    </tr>\n",
       "  </thead>\n",
       "  <tbody>\n",
       "    <tr>\n",
       "      <th>15-24 years</th>\n",
       "      <td>86429.46896</td>\n",
       "    </tr>\n",
       "    <tr>\n",
       "      <th>25-34 years</th>\n",
       "      <td>84381.03587</td>\n",
       "    </tr>\n",
       "    <tr>\n",
       "      <th>35-54 years</th>\n",
       "      <td>143758.88123</td>\n",
       "    </tr>\n",
       "    <tr>\n",
       "      <th>5-14 years</th>\n",
       "      <td>83986.93237</td>\n",
       "    </tr>\n",
       "    <tr>\n",
       "      <th>55-74 years</th>\n",
       "      <td>88032.45340</td>\n",
       "    </tr>\n",
       "    <tr>\n",
       "      <th>75+ years</th>\n",
       "      <td>26632.81253</td>\n",
       "    </tr>\n",
       "  </tbody>\n",
       "</table>\n",
       "</div>"
      ],
      "text/plain": [
       "             PopulationIn100k\n",
       "age                          \n",
       "15-24 years       86429.46896\n",
       "25-34 years       84381.03587\n",
       "35-54 years      143758.88123\n",
       "5-14 years        83986.93237\n",
       "55-74 years       88032.45340\n",
       "75+ years         26632.81253"
      ]
     },
     "execution_count": 1034,
     "metadata": {},
     "output_type": "execute_result"
    }
   ],
   "source": [
    "(who_data.groupby('age')['population'].sum()/10**5).to_frame().rename(columns ={'population':'PopulationIn100k'} )"
   ]
  },
  {
   "cell_type": "code",
   "execution_count": 1035,
   "metadata": {},
   "outputs": [
    {
     "data": {
      "text/html": [
       "<div>\n",
       "<style scoped>\n",
       "    .dataframe tbody tr th:only-of-type {\n",
       "        vertical-align: middle;\n",
       "    }\n",
       "\n",
       "    .dataframe tbody tr th {\n",
       "        vertical-align: top;\n",
       "    }\n",
       "\n",
       "    .dataframe thead th {\n",
       "        text-align: right;\n",
       "    }\n",
       "</style>\n",
       "<table border=\"1\" class=\"dataframe\">\n",
       "  <thead>\n",
       "    <tr style=\"text-align: right;\">\n",
       "      <th></th>\n",
       "      <th>PopulationIn100k</th>\n",
       "    </tr>\n",
       "    <tr>\n",
       "      <th>Generation</th>\n",
       "      <th></th>\n",
       "    </tr>\n",
       "  </thead>\n",
       "  <tbody>\n",
       "    <tr>\n",
       "      <th>Boomers</th>\n",
       "      <td>116731.10499</td>\n",
       "    </tr>\n",
       "    <tr>\n",
       "      <th>GI Generation</th>\n",
       "      <td>12276.01600</td>\n",
       "    </tr>\n",
       "    <tr>\n",
       "      <th>Generation X</th>\n",
       "      <td>159064.28840</td>\n",
       "    </tr>\n",
       "    <tr>\n",
       "      <th>Generation Z</th>\n",
       "      <td>56874.55134</td>\n",
       "    </tr>\n",
       "    <tr>\n",
       "      <th>Millenials</th>\n",
       "      <td>116257.79091</td>\n",
       "    </tr>\n",
       "    <tr>\n",
       "      <th>Silent</th>\n",
       "      <td>52017.83272</td>\n",
       "    </tr>\n",
       "  </tbody>\n",
       "</table>\n",
       "</div>"
      ],
      "text/plain": [
       "               PopulationIn100k\n",
       "Generation                     \n",
       "Boomers            116731.10499\n",
       "GI Generation       12276.01600\n",
       "Generation X       159064.28840\n",
       "Generation Z        56874.55134\n",
       "Millenials         116257.79091\n",
       "Silent              52017.83272"
      ]
     },
     "execution_count": 1035,
     "metadata": {},
     "output_type": "execute_result"
    }
   ],
   "source": [
    "(who_data.groupby('Generation')['population'].sum()/10**5).to_frame().rename(columns ={'population':'PopulationIn100k'} )"
   ]
  },
  {
   "cell_type": "markdown",
   "metadata": {},
   "source": [
    "#### Write the dataframe to a csv"
   ]
  },
  {
   "cell_type": "code",
   "execution_count": 1040,
   "metadata": {},
   "outputs": [],
   "source": [
    "who_data.to_csv('who_suicide_data_final_srimukessh.csv',index = 'False')"
   ]
  }
 ],
 "metadata": {
  "kernelspec": {
   "display_name": "Python 3",
   "language": "python",
   "name": "python3"
  },
  "language_info": {
   "codemirror_mode": {
    "name": "ipython",
    "version": 3
   },
   "file_extension": ".py",
   "mimetype": "text/x-python",
   "name": "python",
   "nbconvert_exporter": "python",
   "pygments_lexer": "ipython3",
   "version": "3.8.3"
  }
 },
 "nbformat": 4,
 "nbformat_minor": 4
}
